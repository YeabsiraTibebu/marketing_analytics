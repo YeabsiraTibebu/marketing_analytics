{
 "cells": [
  {
   "cell_type": "markdown",
   "id": "f75001e0",
   "metadata": {},
   "source": [
    "# Imports"
   ]
  },
  {
   "cell_type": "code",
   "execution_count": 1,
   "id": "444683e8",
   "metadata": {},
   "outputs": [
    {
     "name": "stdout",
     "output_type": "stream",
     "text": [
      "Connected to PostgreSQL database!\n",
      "Connection closed.\n"
     ]
    }
   ],
   "source": [
    "import os\n",
    "import sys\n",
    "import numpy as np\n",
    "import pandas as pd\n",
    "import warnings\n",
    "import matplotlib.pyplot as plt\n",
    "import seaborn as sns\n",
    "\n",
    "os.chdir('..')\n",
    "from db_connection.connection import PostgresConnection\n",
    "from src.df_cleaner import *"
   ]
  },
  {
   "cell_type": "code",
   "execution_count": 7,
   "id": "fffe8c2d",
   "metadata": {},
   "outputs": [],
   "source": [
    "import warnings\n",
    "warnings.filterwarnings('ignore')"
   ]
  },
  {
   "cell_type": "markdown",
   "id": "905c14f4",
   "metadata": {},
   "source": [
    "# Reading Data"
   ]
  },
  {
   "cell_type": "code",
   "execution_count": 10,
   "id": "30b16e07",
   "metadata": {},
   "outputs": [
    {
     "name": "stdout",
     "output_type": "stream",
     "text": [
      "<class 'pandas.core.frame.DataFrame'>\n",
      "RangeIndex: 21 entries, 0 to 20\n",
      "Data columns (total 6 columns):\n",
      " #   Column       Non-Null Count  Dtype \n",
      "---  ------       --------------  ----- \n",
      " 0   Date         21 non-null     object\n",
      " 1   Post link    21 non-null     object\n",
      " 2   View         21 non-null     int64 \n",
      " 3   Post Hour    21 non-null     object\n",
      " 4   Bank         21 non-null     object\n",
      " 5   Time of day  21 non-null     object\n",
      "dtypes: int64(1), object(5)\n",
      "memory usage: 1.1+ KB\n"
     ]
    }
   ],
   "source": [
    "df = pd.read_excel(\"C:/Users/hp/Documents/10 academy/Week 4/data/BANKS AD DATA.xlsx\")\n",
    "df.info()"
   ]
  },
  {
   "cell_type": "code",
   "execution_count": 9,
   "id": "cdf22854",
   "metadata": {},
   "outputs": [
    {
     "data": {
      "text/html": [
       "<div>\n",
       "<style scoped>\n",
       "    .dataframe tbody tr th:only-of-type {\n",
       "        vertical-align: middle;\n",
       "    }\n",
       "\n",
       "    .dataframe tbody tr th {\n",
       "        vertical-align: top;\n",
       "    }\n",
       "\n",
       "    .dataframe thead th {\n",
       "        text-align: right;\n",
       "    }\n",
       "</style>\n",
       "<table border=\"1\" class=\"dataframe\">\n",
       "  <thead>\n",
       "    <tr style=\"text-align: right;\">\n",
       "      <th></th>\n",
       "      <th>Date</th>\n",
       "      <th>Post link</th>\n",
       "      <th>View</th>\n",
       "      <th>Post Hour</th>\n",
       "      <th>Bank</th>\n",
       "      <th>Time of day</th>\n",
       "    </tr>\n",
       "  </thead>\n",
       "  <tbody>\n",
       "    <tr>\n",
       "      <th>0</th>\n",
       "      <td>26/9/2023</td>\n",
       "      <td>https://t.me/tikvahethiopia/81734</td>\n",
       "      <td>239800</td>\n",
       "      <td>10:18:00</td>\n",
       "      <td>BOA</td>\n",
       "      <td>night</td>\n",
       "    </tr>\n",
       "    <tr>\n",
       "      <th>1</th>\n",
       "      <td>19/9/2023</td>\n",
       "      <td>https://t.me/tikvahethiopia/81606</td>\n",
       "      <td>258400</td>\n",
       "      <td>06:53:00</td>\n",
       "      <td>BOA</td>\n",
       "      <td>night</td>\n",
       "    </tr>\n",
       "    <tr>\n",
       "      <th>2</th>\n",
       "      <td>15/9/2023</td>\n",
       "      <td>https://t.me/tikvahethiopia/81502</td>\n",
       "      <td>269400</td>\n",
       "      <td>03:56:00</td>\n",
       "      <td>BOA</td>\n",
       "      <td>evening</td>\n",
       "    </tr>\n",
       "    <tr>\n",
       "      <th>3</th>\n",
       "      <td>2023-08-09 00:00:00</td>\n",
       "      <td>https://t.me/tikvahethiopia/81338</td>\n",
       "      <td>219400</td>\n",
       "      <td>10:50:00</td>\n",
       "      <td>BOA</td>\n",
       "      <td>afternoon</td>\n",
       "    </tr>\n",
       "    <tr>\n",
       "      <th>4</th>\n",
       "      <td>2023-05-09 00:00:00</td>\n",
       "      <td>https://t.me/tikvahethiopia/81252</td>\n",
       "      <td>255900</td>\n",
       "      <td>01:19:00</td>\n",
       "      <td>BOA</td>\n",
       "      <td>afternoon</td>\n",
       "    </tr>\n",
       "  </tbody>\n",
       "</table>\n",
       "</div>"
      ],
      "text/plain": [
       "                  Date                          Post link    View Post Hour  \\\n",
       "0            26/9/2023  https://t.me/tikvahethiopia/81734  239800  10:18:00   \n",
       "1            19/9/2023  https://t.me/tikvahethiopia/81606  258400  06:53:00   \n",
       "2            15/9/2023  https://t.me/tikvahethiopia/81502  269400  03:56:00   \n",
       "3  2023-08-09 00:00:00  https://t.me/tikvahethiopia/81338  219400  10:50:00   \n",
       "4  2023-05-09 00:00:00  https://t.me/tikvahethiopia/81252  255900  01:19:00   \n",
       "\n",
       "  Bank Time of day  \n",
       "0  BOA      night   \n",
       "1  BOA      night   \n",
       "2  BOA    evening   \n",
       "3  BOA   afternoon  \n",
       "4  BOA   afternoon  "
      ]
     },
     "execution_count": 9,
     "metadata": {},
     "output_type": "execute_result"
    }
   ],
   "source": [
    "df.head()"
   ]
  },
  {
   "cell_type": "code",
   "execution_count": null,
   "id": "dc06fcd8",
   "metadata": {},
   "outputs": [],
   "source": []
  }
 ],
 "metadata": {
  "kernelspec": {
   "display_name": "Python 3 (ipykernel)",
   "language": "python",
   "name": "python3"
  },
  "language_info": {
   "codemirror_mode": {
    "name": "ipython",
    "version": 3
   },
   "file_extension": ".py",
   "mimetype": "text/x-python",
   "name": "python",
   "nbconvert_exporter": "python",
   "pygments_lexer": "ipython3",
   "version": "3.11.7"
  }
 },
 "nbformat": 4,
 "nbformat_minor": 5
}
