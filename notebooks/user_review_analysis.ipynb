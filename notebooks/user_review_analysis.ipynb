{
 "cells": [
  {
   "cell_type": "code",
   "execution_count": 9,
   "id": "08a550c5",
   "metadata": {},
   "outputs": [],
   "source": [
    "import os\n",
    "import sys\n",
    "import numpy as np\n",
    "import pandas as pd\n",
    "import warnings\n",
    "import matplotlib.pyplot as plt\n",
    "import seaborn as sns\n",
    "\n",
    "os.chdir('..')\n",
    "from db_connection.connection import PostgresConnection\n",
    "from src.df_cleaner import *\n",
    "from src.df_outlier_handler import OutlierHandler\n",
    "\n"
   ]
  },
  {
   "cell_type": "code",
   "execution_count": 10,
   "id": "6c75d984",
   "metadata": {},
   "outputs": [],
   "source": [
    "import warnings\n",
    "warnings.filterwarnings('ignore')\n"
   ]
  },
  {
   "cell_type": "markdown",
   "id": "0303248e",
   "metadata": {},
   "source": [
    "# Reading Data"
   ]
  },
  {
   "cell_type": "code",
   "execution_count": 11,
   "id": "f8e4c693",
   "metadata": {},
   "outputs": [
    {
     "name": "stdout",
     "output_type": "stream",
     "text": [
      "<class 'pandas.core.frame.DataFrame'>\n",
      "RangeIndex: 100 entries, 0 to 99\n",
      "Data columns (total 15 columns):\n",
      " #   Column                Non-Null Count  Dtype         \n",
      "---  ------                --------------  -----         \n",
      " 0   reviewId              100 non-null    object        \n",
      " 1   userName              100 non-null    object        \n",
      " 2   userImage             100 non-null    object        \n",
      " 3   👍                     100 non-null    int64         \n",
      " 4   reviewCreatedVersion  72 non-null     object        \n",
      " 5   at                    100 non-null    datetime64[ns]\n",
      " 6   replyContent          0 non-null      float64       \n",
      " 7   repliedAt             0 non-null      float64       \n",
      " 8   appVersion            72 non-null     object        \n",
      " 9   score                 100 non-null    int64         \n",
      " 10  Comments              100 non-null    object        \n",
      " 11  Keywords              50 non-null     object        \n",
      " 12  LDA_Category          100 non-null    object        \n",
      " 13  Sentiment             100 non-null    object        \n",
      " 14  Insight               100 non-null    object        \n",
      "dtypes: datetime64[ns](1), float64(2), int64(2), object(10)\n",
      "memory usage: 11.8+ KB\n"
     ]
    }
   ],
   "source": [
    "missing_values = [\"n/a\", \"na\", \"undefined\"]\n",
    "df = pd.read_excel(\"C:/Users/hp/Documents/10 academy/Week 4/data/Apollo android review data.xlsx\")\n",
    "df.info()"
   ]
  },
  {
   "cell_type": "markdown",
   "id": "3a753285",
   "metadata": {},
   "source": [
    "# General Statistics\n"
   ]
  },
  {
   "cell_type": "code",
   "execution_count": 12,
   "id": "4005be95",
   "metadata": {},
   "outputs": [
    {
     "data": {
      "text/plain": [
       "1500"
      ]
     },
     "execution_count": 12,
     "metadata": {},
     "output_type": "execute_result"
    }
   ],
   "source": [
    "df.size"
   ]
  },
  {
   "cell_type": "code",
   "execution_count": 13,
   "id": "299c89a9",
   "metadata": {},
   "outputs": [
    {
     "data": {
      "text/plain": [
       "(100, 15)"
      ]
     },
     "execution_count": 13,
     "metadata": {},
     "output_type": "execute_result"
    }
   ],
   "source": [
    "df.shape"
   ]
  },
  {
   "cell_type": "code",
   "execution_count": 14,
   "id": "c6c0865b",
   "metadata": {},
   "outputs": [
    {
     "name": "stdout",
     "output_type": "stream",
     "text": [
      "<class 'pandas.core.frame.DataFrame'>\n",
      "RangeIndex: 100 entries, 0 to 99\n",
      "Data columns (total 15 columns):\n",
      " #   Column                Non-Null Count  Dtype         \n",
      "---  ------                --------------  -----         \n",
      " 0   reviewId              100 non-null    object        \n",
      " 1   userName              100 non-null    object        \n",
      " 2   userImage             100 non-null    object        \n",
      " 3   👍                     100 non-null    int64         \n",
      " 4   reviewCreatedVersion  72 non-null     object        \n",
      " 5   at                    100 non-null    datetime64[ns]\n",
      " 6   replyContent          0 non-null      float64       \n",
      " 7   repliedAt             0 non-null      float64       \n",
      " 8   appVersion            72 non-null     object        \n",
      " 9   score                 100 non-null    int64         \n",
      " 10  Comments              100 non-null    object        \n",
      " 11  Keywords              50 non-null     object        \n",
      " 12  LDA_Category          100 non-null    object        \n",
      " 13  Sentiment             100 non-null    object        \n",
      " 14  Insight               100 non-null    object        \n",
      "dtypes: datetime64[ns](1), float64(2), int64(2), object(10)\n",
      "memory usage: 11.8+ KB\n"
     ]
    }
   ],
   "source": [
    "df.info()"
   ]
  },
  {
   "cell_type": "code",
   "execution_count": 15,
   "id": "a0f35bf1",
   "metadata": {},
   "outputs": [
    {
     "data": {
      "text/html": [
       "<div>\n",
       "<style scoped>\n",
       "    .dataframe tbody tr th:only-of-type {\n",
       "        vertical-align: middle;\n",
       "    }\n",
       "\n",
       "    .dataframe tbody tr th {\n",
       "        vertical-align: top;\n",
       "    }\n",
       "\n",
       "    .dataframe thead th {\n",
       "        text-align: right;\n",
       "    }\n",
       "</style>\n",
       "<table border=\"1\" class=\"dataframe\">\n",
       "  <thead>\n",
       "    <tr style=\"text-align: right;\">\n",
       "      <th></th>\n",
       "      <th>👍</th>\n",
       "      <th>at</th>\n",
       "      <th>replyContent</th>\n",
       "      <th>repliedAt</th>\n",
       "      <th>score</th>\n",
       "    </tr>\n",
       "  </thead>\n",
       "  <tbody>\n",
       "    <tr>\n",
       "      <th>count</th>\n",
       "      <td>100.000000</td>\n",
       "      <td>100</td>\n",
       "      <td>0.0</td>\n",
       "      <td>0.0</td>\n",
       "      <td>100.000000</td>\n",
       "    </tr>\n",
       "    <tr>\n",
       "      <th>mean</th>\n",
       "      <td>9.160000</td>\n",
       "      <td>2023-11-09 06:06:40.990000128</td>\n",
       "      <td>NaN</td>\n",
       "      <td>NaN</td>\n",
       "      <td>3.530000</td>\n",
       "    </tr>\n",
       "    <tr>\n",
       "      <th>min</th>\n",
       "      <td>0.000000</td>\n",
       "      <td>2023-10-09 10:44:00</td>\n",
       "      <td>NaN</td>\n",
       "      <td>NaN</td>\n",
       "      <td>1.000000</td>\n",
       "    </tr>\n",
       "    <tr>\n",
       "      <th>25%</th>\n",
       "      <td>0.000000</td>\n",
       "      <td>2023-10-25 18:18:54.750000128</td>\n",
       "      <td>NaN</td>\n",
       "      <td>NaN</td>\n",
       "      <td>1.750000</td>\n",
       "    </tr>\n",
       "    <tr>\n",
       "      <th>50%</th>\n",
       "      <td>0.000000</td>\n",
       "      <td>2023-11-09 18:23:58</td>\n",
       "      <td>NaN</td>\n",
       "      <td>NaN</td>\n",
       "      <td>5.000000</td>\n",
       "    </tr>\n",
       "    <tr>\n",
       "      <th>75%</th>\n",
       "      <td>1.000000</td>\n",
       "      <td>2023-11-25 15:13:10.249999872</td>\n",
       "      <td>NaN</td>\n",
       "      <td>NaN</td>\n",
       "      <td>5.000000</td>\n",
       "    </tr>\n",
       "    <tr>\n",
       "      <th>max</th>\n",
       "      <td>374.000000</td>\n",
       "      <td>2023-12-05 14:47:40</td>\n",
       "      <td>NaN</td>\n",
       "      <td>NaN</td>\n",
       "      <td>5.000000</td>\n",
       "    </tr>\n",
       "    <tr>\n",
       "      <th>std</th>\n",
       "      <td>45.394504</td>\n",
       "      <td>NaN</td>\n",
       "      <td>NaN</td>\n",
       "      <td>NaN</td>\n",
       "      <td>1.720083</td>\n",
       "    </tr>\n",
       "  </tbody>\n",
       "</table>\n",
       "</div>"
      ],
      "text/plain": [
       "                👍                             at  replyContent  repliedAt  \\\n",
       "count  100.000000                            100           0.0        0.0   \n",
       "mean     9.160000  2023-11-09 06:06:40.990000128           NaN        NaN   \n",
       "min      0.000000            2023-10-09 10:44:00           NaN        NaN   \n",
       "25%      0.000000  2023-10-25 18:18:54.750000128           NaN        NaN   \n",
       "50%      0.000000            2023-11-09 18:23:58           NaN        NaN   \n",
       "75%      1.000000  2023-11-25 15:13:10.249999872           NaN        NaN   \n",
       "max    374.000000            2023-12-05 14:47:40           NaN        NaN   \n",
       "std     45.394504                            NaN           NaN        NaN   \n",
       "\n",
       "            score  \n",
       "count  100.000000  \n",
       "mean     3.530000  \n",
       "min      1.000000  \n",
       "25%      1.750000  \n",
       "50%      5.000000  \n",
       "75%      5.000000  \n",
       "max      5.000000  \n",
       "std      1.720083  "
      ]
     },
     "execution_count": 15,
     "metadata": {},
     "output_type": "execute_result"
    }
   ],
   "source": [
    "df.describe()"
   ]
  },
  {
   "cell_type": "markdown",
   "id": "644fe11e",
   "metadata": {},
   "source": [
    "# Missing Values"
   ]
  },
  {
   "cell_type": "code",
   "execution_count": 16,
   "id": "e5bb8683",
   "metadata": {},
   "outputs": [
    {
     "name": "stdout",
     "output_type": "stream",
     "text": [
      "The dataset contains 20.4 % missing values.\n"
     ]
    }
   ],
   "source": [
    "percent_missing_values(df)"
   ]
  },
  {
   "cell_type": "code",
   "execution_count": 17,
   "id": "05607c4e",
   "metadata": {},
   "outputs": [
    {
     "name": "stdout",
     "output_type": "stream",
     "text": [
      "Your selected dataframe has 15 columns.\n",
      "There are 5 columns that have missing values.\n",
      "Missing values:                       Missing Values  % of Total Values    Dtype\n",
      "replyContent                     100              100.0  float64\n",
      "repliedAt                        100              100.0  float64\n",
      "Keywords                          50               50.0   object\n",
      "reviewCreatedVersion              28               28.0   object\n",
      "appVersion                        28               28.0   object\n"
     ]
    }
   ],
   "source": [
    "def missing_values_table(df):\n",
    "        mis_val = df.isnull().sum()\n",
    "\n",
    "        mis_val_percent = 100 * df.isnull().sum() / len(df)\n",
    "\n",
    "        mis_val_dtype = df.dtypes\n",
    "\n",
    "        mis_val_table = pd.concat([mis_val, mis_val_percent, mis_val_dtype], axis=1)\n",
    "\n",
    "        mis_val_table_ren_columns = mis_val_table.rename(\n",
    "        columns={0: 'Missing Values', 1: '% of Total Values', 2: 'Dtype'})\n",
    "\n",
    "        mis_val_table_ren_columns = mis_val_table_ren_columns[\n",
    "        mis_val_table_ren_columns.iloc[:, 1] != 0].sort_values(\n",
    "        '% of Total Values', ascending=False).round(1)\n",
    "\n",
    "        print(\"Your selected dataframe has \" + str(df.shape[1]) + \" columns.\\n\"\n",
    "             \"There are \" + str(mis_val_table_ren_columns.shape[0]) +\n",
    "             \" columns that have missing values.\")\n",
    "\n",
    "        return mis_val_table_ren_columns\n",
    "print(f\"Missing values: {missing_values_table(df)}\")"
   ]
  },
  {
   "cell_type": "code",
   "execution_count": 18,
   "id": "b3c3d1ab",
   "metadata": {},
   "outputs": [
    {
     "name": "stdout",
     "output_type": "stream",
     "text": [
      "The dataset contains 20.4 % missing values.\n"
     ]
    }
   ],
   "source": [
    "percent_missing_values(df)"
   ]
  },
  {
   "cell_type": "code",
   "execution_count": 19,
   "id": "3a82bafd",
   "metadata": {},
   "outputs": [
    {
     "data": {
      "text/plain": [
       "reviewId                  0\n",
       "userName                  0\n",
       "userImage                 0\n",
       "👍                         0\n",
       "reviewCreatedVersion     28\n",
       "at                        0\n",
       "replyContent            100\n",
       "repliedAt               100\n",
       "appVersion               28\n",
       "score                     0\n",
       "Comments                  0\n",
       "Keywords                 50\n",
       "LDA_Category              0\n",
       "Sentiment                 0\n",
       "Insight                   0\n",
       "dtype: int64"
      ]
     },
     "execution_count": 19,
     "metadata": {},
     "output_type": "execute_result"
    }
   ],
   "source": [
    "df.isnull().sum()"
   ]
  },
  {
   "cell_type": "code",
   "execution_count": 20,
   "id": "771f7b48",
   "metadata": {},
   "outputs": [
    {
     "data": {
      "text/plain": [
       "306"
      ]
     },
     "execution_count": 20,
     "metadata": {},
     "output_type": "execute_result"
    }
   ],
   "source": [
    "df.isnull().sum().sum()"
   ]
  },
  {
   "cell_type": "code",
   "execution_count": null,
   "id": "2793016c",
   "metadata": {},
   "outputs": [],
   "source": []
  }
 ],
 "metadata": {
  "kernelspec": {
   "display_name": "Python 3 (ipykernel)",
   "language": "python",
   "name": "python3"
  },
  "language_info": {
   "codemirror_mode": {
    "name": "ipython",
    "version": 3
   },
   "file_extension": ".py",
   "mimetype": "text/x-python",
   "name": "python",
   "nbconvert_exporter": "python",
   "pygments_lexer": "ipython3",
   "version": "3.11.7"
  }
 },
 "nbformat": 4,
 "nbformat_minor": 5
}
