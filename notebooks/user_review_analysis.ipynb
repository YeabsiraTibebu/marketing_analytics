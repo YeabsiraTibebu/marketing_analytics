{
 "cells": [
  {
   "cell_type": "code",
   "execution_count": 9,
   "id": "0bd70fc0",
   "metadata": {},
   "outputs": [],
   "source": [
    "import os\n",
    "import sys\n",
    "import numpy as np\n",
    "import pandas as pd\n",
    "import warnings\n",
    "import matplotlib.pyplot as plt\n",
    "import seaborn as sns\n",
    "\n",
    "os.chdir('..')\n",
    "from db_connection.connection import PostgresConnection\n",
    "from src.df_cleaner import *\n",
    "from src.df_outlier_handler import OutlierHandler\n",
    "\n"
   ]
  },
  {
   "cell_type": "code",
   "execution_count": 10,
   "id": "08f2630a",
   "metadata": {},
   "outputs": [],
   "source": [
    "import warnings\n",
    "warnings.filterwarnings('ignore')\n"
   ]
  },
  {
   "cell_type": "markdown",
   "id": "67b30728",
   "metadata": {},
   "source": [
    "# Reading Data"
   ]
  },
  {
   "cell_type": "code",
   "execution_count": 11,
   "id": "373c5ab0",
   "metadata": {},
   "outputs": [
    {
     "name": "stdout",
     "output_type": "stream",
     "text": [
      "<class 'pandas.core.frame.DataFrame'>\n",
      "RangeIndex: 100 entries, 0 to 99\n",
      "Data columns (total 15 columns):\n",
      " #   Column                Non-Null Count  Dtype         \n",
      "---  ------                --------------  -----         \n",
      " 0   reviewId              100 non-null    object        \n",
      " 1   userName              100 non-null    object        \n",
      " 2   userImage             100 non-null    object        \n",
      " 3   👍                     100 non-null    int64         \n",
      " 4   reviewCreatedVersion  72 non-null     object        \n",
      " 5   at                    100 non-null    datetime64[ns]\n",
      " 6   replyContent          0 non-null      float64       \n",
      " 7   repliedAt             0 non-null      float64       \n",
      " 8   appVersion            72 non-null     object        \n",
      " 9   score                 100 non-null    int64         \n",
      " 10  Comments              100 non-null    object        \n",
      " 11  Keywords              50 non-null     object        \n",
      " 12  LDA_Category          100 non-null    object        \n",
      " 13  Sentiment             100 non-null    object        \n",
      " 14  Insight               100 non-null    object        \n",
      "dtypes: datetime64[ns](1), float64(2), int64(2), object(10)\n",
      "memory usage: 11.8+ KB\n"
     ]
    }
   ],
   "source": [
    "missing_values = [\"n/a\", \"na\", \"undefined\"]\n",
    "df = pd.read_excel(\"C:/Users/hp/Documents/10 academy/Week 4/data/Apollo android review data.xlsx\")\n",
    "df.info()"
   ]
  },
  {
   "cell_type": "markdown",
   "id": "cdb6d66c",
   "metadata": {},
   "source": [
    "# General Statistics\n"
   ]
  },
  {
   "cell_type": "code",
   "execution_count": 12,
   "id": "3da98519",
   "metadata": {},
   "outputs": [
    {
     "data": {
      "text/plain": [
       "1500"
      ]
     },
     "execution_count": 12,
     "metadata": {},
     "output_type": "execute_result"
    }
   ],
   "source": [
    "df.size"
   ]
  },
  {
   "cell_type": "code",
   "execution_count": 13,
   "id": "b6f40e2c",
   "metadata": {},
   "outputs": [
    {
     "data": {
      "text/plain": [
       "(100, 15)"
      ]
     },
     "execution_count": 13,
     "metadata": {},
     "output_type": "execute_result"
    }
   ],
   "source": [
    "df.shape"
   ]
  },
  {
   "cell_type": "code",
   "execution_count": 14,
   "id": "7232864a",
   "metadata": {},
   "outputs": [
    {
     "name": "stdout",
     "output_type": "stream",
     "text": [
      "<class 'pandas.core.frame.DataFrame'>\n",
      "RangeIndex: 100 entries, 0 to 99\n",
      "Data columns (total 15 columns):\n",
      " #   Column                Non-Null Count  Dtype         \n",
      "---  ------                --------------  -----         \n",
      " 0   reviewId              100 non-null    object        \n",
      " 1   userName              100 non-null    object        \n",
      " 2   userImage             100 non-null    object        \n",
      " 3   👍                     100 non-null    int64         \n",
      " 4   reviewCreatedVersion  72 non-null     object        \n",
      " 5   at                    100 non-null    datetime64[ns]\n",
      " 6   replyContent          0 non-null      float64       \n",
      " 7   repliedAt             0 non-null      float64       \n",
      " 8   appVersion            72 non-null     object        \n",
      " 9   score                 100 non-null    int64         \n",
      " 10  Comments              100 non-null    object        \n",
      " 11  Keywords              50 non-null     object        \n",
      " 12  LDA_Category          100 non-null    object        \n",
      " 13  Sentiment             100 non-null    object        \n",
      " 14  Insight               100 non-null    object        \n",
      "dtypes: datetime64[ns](1), float64(2), int64(2), object(10)\n",
      "memory usage: 11.8+ KB\n"
     ]
    }
   ],
   "source": [
    "df.info()"
   ]
  },
  {
   "cell_type": "code",
   "execution_count": 15,
   "id": "f048bdaf",
   "metadata": {},
   "outputs": [
    {
     "data": {
      "text/html": [
       "<div>\n",
       "<style scoped>\n",
       "    .dataframe tbody tr th:only-of-type {\n",
       "        vertical-align: middle;\n",
       "    }\n",
       "\n",
       "    .dataframe tbody tr th {\n",
       "        vertical-align: top;\n",
       "    }\n",
       "\n",
       "    .dataframe thead th {\n",
       "        text-align: right;\n",
       "    }\n",
       "</style>\n",
       "<table border=\"1\" class=\"dataframe\">\n",
       "  <thead>\n",
       "    <tr style=\"text-align: right;\">\n",
       "      <th></th>\n",
       "      <th>👍</th>\n",
       "      <th>at</th>\n",
       "      <th>replyContent</th>\n",
       "      <th>repliedAt</th>\n",
       "      <th>score</th>\n",
       "    </tr>\n",
       "  </thead>\n",
       "  <tbody>\n",
       "    <tr>\n",
       "      <th>count</th>\n",
       "      <td>100.000000</td>\n",
       "      <td>100</td>\n",
       "      <td>0.0</td>\n",
       "      <td>0.0</td>\n",
       "      <td>100.000000</td>\n",
       "    </tr>\n",
       "    <tr>\n",
       "      <th>mean</th>\n",
       "      <td>9.160000</td>\n",
       "      <td>2023-11-09 06:06:40.990000128</td>\n",
       "      <td>NaN</td>\n",
       "      <td>NaN</td>\n",
       "      <td>3.530000</td>\n",
       "    </tr>\n",
       "    <tr>\n",
       "      <th>min</th>\n",
       "      <td>0.000000</td>\n",
       "      <td>2023-10-09 10:44:00</td>\n",
       "      <td>NaN</td>\n",
       "      <td>NaN</td>\n",
       "      <td>1.000000</td>\n",
       "    </tr>\n",
       "    <tr>\n",
       "      <th>25%</th>\n",
       "      <td>0.000000</td>\n",
       "      <td>2023-10-25 18:18:54.750000128</td>\n",
       "      <td>NaN</td>\n",
       "      <td>NaN</td>\n",
       "      <td>1.750000</td>\n",
       "    </tr>\n",
       "    <tr>\n",
       "      <th>50%</th>\n",
       "      <td>0.000000</td>\n",
       "      <td>2023-11-09 18:23:58</td>\n",
       "      <td>NaN</td>\n",
       "      <td>NaN</td>\n",
       "      <td>5.000000</td>\n",
       "    </tr>\n",
       "    <tr>\n",
       "      <th>75%</th>\n",
       "      <td>1.000000</td>\n",
       "      <td>2023-11-25 15:13:10.249999872</td>\n",
       "      <td>NaN</td>\n",
       "      <td>NaN</td>\n",
       "      <td>5.000000</td>\n",
       "    </tr>\n",
       "    <tr>\n",
       "      <th>max</th>\n",
       "      <td>374.000000</td>\n",
       "      <td>2023-12-05 14:47:40</td>\n",
       "      <td>NaN</td>\n",
       "      <td>NaN</td>\n",
       "      <td>5.000000</td>\n",
       "    </tr>\n",
       "    <tr>\n",
       "      <th>std</th>\n",
       "      <td>45.394504</td>\n",
       "      <td>NaN</td>\n",
       "      <td>NaN</td>\n",
       "      <td>NaN</td>\n",
       "      <td>1.720083</td>\n",
       "    </tr>\n",
       "  </tbody>\n",
       "</table>\n",
       "</div>"
      ],
      "text/plain": [
       "                👍                             at  replyContent  repliedAt  \\\n",
       "count  100.000000                            100           0.0        0.0   \n",
       "mean     9.160000  2023-11-09 06:06:40.990000128           NaN        NaN   \n",
       "min      0.000000            2023-10-09 10:44:00           NaN        NaN   \n",
       "25%      0.000000  2023-10-25 18:18:54.750000128           NaN        NaN   \n",
       "50%      0.000000            2023-11-09 18:23:58           NaN        NaN   \n",
       "75%      1.000000  2023-11-25 15:13:10.249999872           NaN        NaN   \n",
       "max    374.000000            2023-12-05 14:47:40           NaN        NaN   \n",
       "std     45.394504                            NaN           NaN        NaN   \n",
       "\n",
       "            score  \n",
       "count  100.000000  \n",
       "mean     3.530000  \n",
       "min      1.000000  \n",
       "25%      1.750000  \n",
       "50%      5.000000  \n",
       "75%      5.000000  \n",
       "max      5.000000  \n",
       "std      1.720083  "
      ]
     },
     "execution_count": 15,
     "metadata": {},
     "output_type": "execute_result"
    }
   ],
   "source": [
    "df.describe()"
   ]
  },
  {
   "cell_type": "markdown",
   "id": "5d07d4ba",
   "metadata": {},
   "source": [
    "# Missing Values"
   ]
  },
  {
   "cell_type": "code",
   "execution_count": 16,
   "id": "1ce0ef21",
   "metadata": {},
   "outputs": [
    {
     "name": "stdout",
     "output_type": "stream",
     "text": [
      "The dataset contains 20.4 % missing values.\n"
     ]
    }
   ],
   "source": [
    "percent_missing_values(df)"
   ]
  },
  {
   "cell_type": "code",
   "execution_count": 17,
   "id": "b36cffe6",
   "metadata": {},
   "outputs": [
    {
     "name": "stdout",
     "output_type": "stream",
     "text": [
      "Your selected dataframe has 15 columns.\n",
      "There are 5 columns that have missing values.\n",
      "Missing values:                       Missing Values  % of Total Values    Dtype\n",
      "replyContent                     100              100.0  float64\n",
      "repliedAt                        100              100.0  float64\n",
      "Keywords                          50               50.0   object\n",
      "reviewCreatedVersion              28               28.0   object\n",
      "appVersion                        28               28.0   object\n"
     ]
    }
   ],
   "source": [
    "def missing_values_table(df):\n",
    "        mis_val = df.isnull().sum()\n",
    "\n",
    "        mis_val_percent = 100 * df.isnull().sum() / len(df)\n",
    "\n",
    "        mis_val_dtype = df.dtypes\n",
    "\n",
    "        mis_val_table = pd.concat([mis_val, mis_val_percent, mis_val_dtype], axis=1)\n",
    "\n",
    "        mis_val_table_ren_columns = mis_val_table.rename(\n",
    "        columns={0: 'Missing Values', 1: '% of Total Values', 2: 'Dtype'})\n",
    "\n",
    "        mis_val_table_ren_columns = mis_val_table_ren_columns[\n",
    "        mis_val_table_ren_columns.iloc[:, 1] != 0].sort_values(\n",
    "        '% of Total Values', ascending=False).round(1)\n",
    "\n",
    "        print(\"Your selected dataframe has \" + str(df.shape[1]) + \" columns.\\n\"\n",
    "             \"There are \" + str(mis_val_table_ren_columns.shape[0]) +\n",
    "             \" columns that have missing values.\")\n",
    "\n",
    "        return mis_val_table_ren_columns\n",
    "print(f\"Missing values: {missing_values_table(df)}\")"
   ]
  },
  {
   "cell_type": "code",
   "execution_count": 18,
   "id": "50be22cf",
   "metadata": {},
   "outputs": [
    {
     "name": "stdout",
     "output_type": "stream",
     "text": [
      "The dataset contains 20.4 % missing values.\n"
     ]
    }
   ],
   "source": [
    "percent_missing_values(df)"
   ]
  },
  {
   "cell_type": "code",
   "execution_count": 19,
   "id": "29cc6d87",
   "metadata": {},
   "outputs": [
    {
     "data": {
      "text/plain": [
       "reviewId                  0\n",
       "userName                  0\n",
       "userImage                 0\n",
       "👍                         0\n",
       "reviewCreatedVersion     28\n",
       "at                        0\n",
       "replyContent            100\n",
       "repliedAt               100\n",
       "appVersion               28\n",
       "score                     0\n",
       "Comments                  0\n",
       "Keywords                 50\n",
       "LDA_Category              0\n",
       "Sentiment                 0\n",
       "Insight                   0\n",
       "dtype: int64"
      ]
     },
     "execution_count": 19,
     "metadata": {},
     "output_type": "execute_result"
    }
   ],
   "source": [
    "df.isnull().sum()"
   ]
  },
  {
   "cell_type": "code",
   "execution_count": 20,
   "id": "34170e8a",
   "metadata": {},
   "outputs": [
    {
     "data": {
      "text/plain": [
       "306"
      ]
     },
     "execution_count": 20,
     "metadata": {},
     "output_type": "execute_result"
    }
   ],
   "source": [
    "df.isnull().sum().sum()"
   ]
  },
  {
   "cell_type": "code",
   "execution_count": 25,
   "id": "f17e445c",
   "metadata": {},
   "outputs": [
    {
     "data": {
      "text/html": [
       "<div>\n",
       "<style scoped>\n",
       "    .dataframe tbody tr th:only-of-type {\n",
       "        vertical-align: middle;\n",
       "    }\n",
       "\n",
       "    .dataframe tbody tr th {\n",
       "        vertical-align: top;\n",
       "    }\n",
       "\n",
       "    .dataframe thead th {\n",
       "        text-align: right;\n",
       "    }\n",
       "</style>\n",
       "<table border=\"1\" class=\"dataframe\">\n",
       "  <thead>\n",
       "    <tr style=\"text-align: right;\">\n",
       "      <th></th>\n",
       "      <th>reviewId</th>\n",
       "      <th>userName</th>\n",
       "      <th>userImage</th>\n",
       "      <th>👍</th>\n",
       "      <th>reviewCreatedVersion</th>\n",
       "      <th>at</th>\n",
       "      <th>replyContent</th>\n",
       "      <th>repliedAt</th>\n",
       "      <th>appVersion</th>\n",
       "      <th>score</th>\n",
       "      <th>Comments</th>\n",
       "      <th>Keywords</th>\n",
       "      <th>LDA_Category</th>\n",
       "      <th>Sentiment</th>\n",
       "      <th>Insight</th>\n",
       "    </tr>\n",
       "  </thead>\n",
       "  <tbody>\n",
       "    <tr>\n",
       "      <th>0</th>\n",
       "      <td>910fa3ea-29db-4e6d-972b-83a7ccf0b381</td>\n",
       "      <td>Abnet Hussien</td>\n",
       "      <td>https://play-lh.googleusercontent.com/a-/ALV-U...</td>\n",
       "      <td>0</td>\n",
       "      <td>23.10.24</td>\n",
       "      <td>2023-12-05 14:47:40</td>\n",
       "      <td>0.0</td>\n",
       "      <td>0.0</td>\n",
       "      <td>23.10.24</td>\n",
       "      <td>1</td>\n",
       "      <td>it fails proceeding after sending OTP for regi...</td>\n",
       "      <td>otp</td>\n",
       "      <td>Account and Identification Issues</td>\n",
       "      <td>Negative</td>\n",
       "      <td>Influential words: fails</td>\n",
       "    </tr>\n",
       "    <tr>\n",
       "      <th>1</th>\n",
       "      <td>1c92335c-20cf-4dc8-8108-40c5ca406669</td>\n",
       "      <td>Paul Flower</td>\n",
       "      <td>https://play-lh.googleusercontent.com/a-/ALV-U...</td>\n",
       "      <td>0</td>\n",
       "      <td>0</td>\n",
       "      <td>2023-12-05 13:45:23</td>\n",
       "      <td>0.0</td>\n",
       "      <td>0.0</td>\n",
       "      <td>0</td>\n",
       "      <td>4</td>\n",
       "      <td>I like all features of this app but, airtime t...</td>\n",
       "      <td>like</td>\n",
       "      <td>Operational Challenges within the App</td>\n",
       "      <td>Neutral</td>\n",
       "      <td>No significant influential words</td>\n",
       "    </tr>\n",
       "    <tr>\n",
       "      <th>2</th>\n",
       "      <td>1d9285f6-3570-43b1-b649-dfbffa671471</td>\n",
       "      <td>Fenkl Massawa (fenkl)</td>\n",
       "      <td>https://play-lh.googleusercontent.com/a-/ALV-U...</td>\n",
       "      <td>0</td>\n",
       "      <td>23.10.24</td>\n",
       "      <td>2023-12-05 12:41:48</td>\n",
       "      <td>0.0</td>\n",
       "      <td>0.0</td>\n",
       "      <td>23.10.24</td>\n",
       "      <td>5</td>\n",
       "      <td>I like this app</td>\n",
       "      <td>like</td>\n",
       "      <td>Operational Challenges within the App</td>\n",
       "      <td>Neutral</td>\n",
       "      <td>No significant influential words</td>\n",
       "    </tr>\n",
       "    <tr>\n",
       "      <th>3</th>\n",
       "      <td>26a50719-d3b5-4703-a942-5640e04d824a</td>\n",
       "      <td>Mula Boad</td>\n",
       "      <td>https://play-lh.googleusercontent.com/a-/ALV-U...</td>\n",
       "      <td>0</td>\n",
       "      <td>23.10.24</td>\n",
       "      <td>2023-12-05 11:55:36</td>\n",
       "      <td>0.0</td>\n",
       "      <td>0.0</td>\n",
       "      <td>23.10.24</td>\n",
       "      <td>5</td>\n",
       "      <td>Litterally i am well exprienced in social medi...</td>\n",
       "      <td>0</td>\n",
       "      <td>Functional Issues and User Experience</td>\n",
       "      <td>Neutral</td>\n",
       "      <td>Influential words: social, new</td>\n",
       "    </tr>\n",
       "    <tr>\n",
       "      <th>4</th>\n",
       "      <td>4f2712f8-4b7f-45e7-8afb-90556692a6b5</td>\n",
       "      <td>yegna gojo</td>\n",
       "      <td>https://play-lh.googleusercontent.com/a-/ALV-U...</td>\n",
       "      <td>0</td>\n",
       "      <td>23.10.24</td>\n",
       "      <td>2023-12-04 06:47:48</td>\n",
       "      <td>0.0</td>\n",
       "      <td>0.0</td>\n",
       "      <td>23.10.24</td>\n",
       "      <td>5</td>\n",
       "      <td>Good</td>\n",
       "      <td>good</td>\n",
       "      <td>Positive Feedback</td>\n",
       "      <td>Positive</td>\n",
       "      <td>Influential words: Good</td>\n",
       "    </tr>\n",
       "    <tr>\n",
       "      <th>...</th>\n",
       "      <td>...</td>\n",
       "      <td>...</td>\n",
       "      <td>...</td>\n",
       "      <td>...</td>\n",
       "      <td>...</td>\n",
       "      <td>...</td>\n",
       "      <td>...</td>\n",
       "      <td>...</td>\n",
       "      <td>...</td>\n",
       "      <td>...</td>\n",
       "      <td>...</td>\n",
       "      <td>...</td>\n",
       "      <td>...</td>\n",
       "      <td>...</td>\n",
       "      <td>...</td>\n",
       "    </tr>\n",
       "    <tr>\n",
       "      <th>95</th>\n",
       "      <td>cb3626c2-5f52-4fb6-a6ef-618bc5e1eed0</td>\n",
       "      <td>behailu besha</td>\n",
       "      <td>https://play-lh.googleusercontent.com/a/ACg8oc...</td>\n",
       "      <td>0</td>\n",
       "      <td>23.09.23</td>\n",
       "      <td>2023-10-10 08:00:59</td>\n",
       "      <td>0.0</td>\n",
       "      <td>0.0</td>\n",
       "      <td>23.09.23</td>\n",
       "      <td>5</td>\n",
       "      <td>Nice app</td>\n",
       "      <td>0</td>\n",
       "      <td>Operational Challenges within the App</td>\n",
       "      <td>Positive</td>\n",
       "      <td>Influential words: Nice</td>\n",
       "    </tr>\n",
       "    <tr>\n",
       "      <th>96</th>\n",
       "      <td>e97a1c48-dc08-446b-95ac-40625f3cd0e3</td>\n",
       "      <td>Bilal Kemal</td>\n",
       "      <td>https://play-lh.googleusercontent.com/a-/ALV-U...</td>\n",
       "      <td>0</td>\n",
       "      <td>23.09.23</td>\n",
       "      <td>2023-10-10 03:19:18</td>\n",
       "      <td>0.0</td>\n",
       "      <td>0.0</td>\n",
       "      <td>23.09.23</td>\n",
       "      <td>5</td>\n",
       "      <td>good</td>\n",
       "      <td>good</td>\n",
       "      <td>Positive Feedback</td>\n",
       "      <td>Positive</td>\n",
       "      <td>Influential words: good</td>\n",
       "    </tr>\n",
       "    <tr>\n",
       "      <th>97</th>\n",
       "      <td>68d16a53-83ca-493e-ad36-fc80adbf85d9</td>\n",
       "      <td>Biruh Aimero</td>\n",
       "      <td>https://play-lh.googleusercontent.com/a/ACg8oc...</td>\n",
       "      <td>0</td>\n",
       "      <td>23.08.03</td>\n",
       "      <td>2023-10-09 17:25:06</td>\n",
       "      <td>0.0</td>\n",
       "      <td>0.0</td>\n",
       "      <td>23.08.03</td>\n",
       "      <td>3</td>\n",
       "      <td>I like</td>\n",
       "      <td>like</td>\n",
       "      <td>Operational Challenges within the App</td>\n",
       "      <td>Neutral</td>\n",
       "      <td>No significant influential words</td>\n",
       "    </tr>\n",
       "    <tr>\n",
       "      <th>98</th>\n",
       "      <td>4c8dfb13-263f-424f-96e0-ab836bf81b23</td>\n",
       "      <td>Yonatan Hailu</td>\n",
       "      <td>https://play-lh.googleusercontent.com/a-/ALV-U...</td>\n",
       "      <td>0</td>\n",
       "      <td>0</td>\n",
       "      <td>2023-10-09 17:02:20</td>\n",
       "      <td>0.0</td>\n",
       "      <td>0.0</td>\n",
       "      <td>0</td>\n",
       "      <td>5</td>\n",
       "      <td>It's Good</td>\n",
       "      <td>good</td>\n",
       "      <td>Positive Feedback</td>\n",
       "      <td>Positive</td>\n",
       "      <td>Influential words: Good</td>\n",
       "    </tr>\n",
       "    <tr>\n",
       "      <th>99</th>\n",
       "      <td>680d051f-977c-471b-abd3-61d67f678ef7</td>\n",
       "      <td>Dan Dan</td>\n",
       "      <td>https://play-lh.googleusercontent.com/a/ACg8oc...</td>\n",
       "      <td>0</td>\n",
       "      <td>0</td>\n",
       "      <td>2023-10-09 10:44:00</td>\n",
       "      <td>0.0</td>\n",
       "      <td>0.0</td>\n",
       "      <td>0</td>\n",
       "      <td>4</td>\n",
       "      <td>My negative experience is that loging with a s...</td>\n",
       "      <td>experience</td>\n",
       "      <td>Functional Issues and User Experience</td>\n",
       "      <td>Negative</td>\n",
       "      <td>Influential words: negative, very, difficult, ...</td>\n",
       "    </tr>\n",
       "  </tbody>\n",
       "</table>\n",
       "<p>100 rows × 15 columns</p>\n",
       "</div>"
      ],
      "text/plain": [
       "                                reviewId               userName  \\\n",
       "0   910fa3ea-29db-4e6d-972b-83a7ccf0b381          Abnet Hussien   \n",
       "1   1c92335c-20cf-4dc8-8108-40c5ca406669            Paul Flower   \n",
       "2   1d9285f6-3570-43b1-b649-dfbffa671471  Fenkl Massawa (fenkl)   \n",
       "3   26a50719-d3b5-4703-a942-5640e04d824a              Mula Boad   \n",
       "4   4f2712f8-4b7f-45e7-8afb-90556692a6b5             yegna gojo   \n",
       "..                                   ...                    ...   \n",
       "95  cb3626c2-5f52-4fb6-a6ef-618bc5e1eed0          behailu besha   \n",
       "96  e97a1c48-dc08-446b-95ac-40625f3cd0e3            Bilal Kemal   \n",
       "97  68d16a53-83ca-493e-ad36-fc80adbf85d9           Biruh Aimero   \n",
       "98  4c8dfb13-263f-424f-96e0-ab836bf81b23          Yonatan Hailu   \n",
       "99  680d051f-977c-471b-abd3-61d67f678ef7                Dan Dan   \n",
       "\n",
       "                                            userImage  👍 reviewCreatedVersion  \\\n",
       "0   https://play-lh.googleusercontent.com/a-/ALV-U...  0             23.10.24   \n",
       "1   https://play-lh.googleusercontent.com/a-/ALV-U...  0                    0   \n",
       "2   https://play-lh.googleusercontent.com/a-/ALV-U...  0             23.10.24   \n",
       "3   https://play-lh.googleusercontent.com/a-/ALV-U...  0             23.10.24   \n",
       "4   https://play-lh.googleusercontent.com/a-/ALV-U...  0             23.10.24   \n",
       "..                                                ... ..                  ...   \n",
       "95  https://play-lh.googleusercontent.com/a/ACg8oc...  0             23.09.23   \n",
       "96  https://play-lh.googleusercontent.com/a-/ALV-U...  0             23.09.23   \n",
       "97  https://play-lh.googleusercontent.com/a/ACg8oc...  0             23.08.03   \n",
       "98  https://play-lh.googleusercontent.com/a-/ALV-U...  0                    0   \n",
       "99  https://play-lh.googleusercontent.com/a/ACg8oc...  0                    0   \n",
       "\n",
       "                    at  replyContent  repliedAt appVersion  score  \\\n",
       "0  2023-12-05 14:47:40           0.0        0.0   23.10.24      1   \n",
       "1  2023-12-05 13:45:23           0.0        0.0          0      4   \n",
       "2  2023-12-05 12:41:48           0.0        0.0   23.10.24      5   \n",
       "3  2023-12-05 11:55:36           0.0        0.0   23.10.24      5   \n",
       "4  2023-12-04 06:47:48           0.0        0.0   23.10.24      5   \n",
       "..                 ...           ...        ...        ...    ...   \n",
       "95 2023-10-10 08:00:59           0.0        0.0   23.09.23      5   \n",
       "96 2023-10-10 03:19:18           0.0        0.0   23.09.23      5   \n",
       "97 2023-10-09 17:25:06           0.0        0.0   23.08.03      3   \n",
       "98 2023-10-09 17:02:20           0.0        0.0          0      5   \n",
       "99 2023-10-09 10:44:00           0.0        0.0          0      4   \n",
       "\n",
       "                                             Comments    Keywords  \\\n",
       "0   it fails proceeding after sending OTP for regi...         otp   \n",
       "1   I like all features of this app but, airtime t...        like   \n",
       "2                                     I like this app        like   \n",
       "3   Litterally i am well exprienced in social medi...           0   \n",
       "4                                                Good        good   \n",
       "..                                                ...         ...   \n",
       "95                                           Nice app           0   \n",
       "96                                               good        good   \n",
       "97                                             I like        like   \n",
       "98                                          It's Good        good   \n",
       "99  My negative experience is that loging with a s...  experience   \n",
       "\n",
       "                             LDA_Category Sentiment  \\\n",
       "0       Account and Identification Issues  Negative   \n",
       "1   Operational Challenges within the App   Neutral   \n",
       "2   Operational Challenges within the App   Neutral   \n",
       "3   Functional Issues and User Experience   Neutral   \n",
       "4                       Positive Feedback  Positive   \n",
       "..                                    ...       ...   \n",
       "95  Operational Challenges within the App  Positive   \n",
       "96                      Positive Feedback  Positive   \n",
       "97  Operational Challenges within the App   Neutral   \n",
       "98                      Positive Feedback  Positive   \n",
       "99  Functional Issues and User Experience  Negative   \n",
       "\n",
       "                                              Insight  \n",
       "0                            Influential words: fails  \n",
       "1                    No significant influential words  \n",
       "2                    No significant influential words  \n",
       "3                      Influential words: social, new  \n",
       "4                             Influential words: Good  \n",
       "..                                                ...  \n",
       "95                            Influential words: Nice  \n",
       "96                            Influential words: good  \n",
       "97                   No significant influential words  \n",
       "98                            Influential words: Good  \n",
       "99  Influential words: negative, very, difficult, ...  \n",
       "\n",
       "[100 rows x 15 columns]"
      ]
     },
     "execution_count": 25,
     "metadata": {},
     "output_type": "execute_result"
    }
   ],
   "source": [
    "df = df.fillna(value = 0)\n",
    "df"
   ]
  },
  {
   "cell_type": "code",
   "execution_count": 26,
   "id": "53546f4a",
   "metadata": {},
   "outputs": [
    {
     "name": "stdout",
     "output_type": "stream",
     "text": [
      "The dataset contains 0.0 % missing values.\n"
     ]
    }
   ],
   "source": [
    "percent_missing_values(df)"
   ]
  },
  {
   "cell_type": "markdown",
   "id": "839057e1",
   "metadata": {},
   "source": [
    "# Univariate Analysis"
   ]
  },
  {
   "cell_type": "code",
   "execution_count": 35,
   "id": "9ac58d41",
   "metadata": {},
   "outputs": [
    {
     "data": {
      "text/plain": [
       "5"
      ]
     },
     "execution_count": 35,
     "metadata": {},
     "output_type": "execute_result"
    }
   ],
   "source": [
    "unique_counts = df['score'].nunique()\n",
    "unique_counts"
   ]
  },
  {
   "cell_type": "markdown",
   "id": "f2e19de4",
   "metadata": {},
   "source": [
    "# Experiment"
   ]
  },
  {
   "cell_type": "code",
   "execution_count": 36,
   "id": "bb07cf79",
   "metadata": {},
   "outputs": [
    {
     "data": {
      "text/plain": [
       "score\n",
       "5    51\n",
       "1    25\n",
       "4     9\n",
       "2     8\n",
       "3     7\n",
       "Name: count, dtype: int64"
      ]
     },
     "execution_count": 36,
     "metadata": {},
     "output_type": "execute_result"
    }
   ],
   "source": [
    "counts_df = df['score'].value_counts()\n",
    "counts_df"
   ]
  },
  {
   "cell_type": "code",
   "execution_count": 37,
   "id": "a95b8daa",
   "metadata": {},
   "outputs": [
    {
     "data": {
      "image/png": "[encoded data removed]",
      "text/plain": [
       "<Figure size 1200x600 with 1 Axes>"
      ]
     },
     "metadata": {},
     "output_type": "display_data"
    }
   ],
   "source": [
    "plt.figure(figsize=(12, 6))\n",
    "plt.title('Unique value counts of the hour column')\n",
    "sns.countplot(data=df, x='score')\n",
    "plt.show()"
   ]
  },
  {
   "cell_type": "code",
   "execution_count": 41,
   "id": "06a009fc",
   "metadata": {},
   "outputs": [
    {
     "data": {
      "text/plain": [
       "0    2023-12-05 14:47:40\n",
       "1    2023-12-05 13:45:23\n",
       "2    2023-12-05 12:41:48\n",
       "3    2023-12-05 11:55:36\n",
       "4    2023-12-04 06:47:48\n",
       "             ...        \n",
       "95   2023-10-10 08:00:59\n",
       "96   2023-10-10 03:19:18\n",
       "97   2023-10-09 17:25:06\n",
       "98   2023-10-09 17:02:20\n",
       "99   2023-10-09 10:44:00\n",
       "Name: at, Length: 100, dtype: datetime64[ns]"
      ]
     },
     "execution_count": 41,
     "metadata": {},
     "output_type": "execute_result"
    }
   ],
   "source": [
    "df[\"at\"] = pd.to_datetime(df[\"at\"])\n",
    "df[\"at\"] \n"
   ]
  },
  {
   "cell_type": "code",
   "execution_count": 39,
   "id": "b0aff6c7",
   "metadata": {},
   "outputs": [
    {
     "data": {
      "text/plain": [
       "0    2023-12-05 14:47:40\n",
       "1    2023-12-05 13:45:23\n",
       "2    2023-12-05 12:41:48\n",
       "3    2023-12-05 11:55:36\n",
       "4    2023-12-04 06:47:48\n",
       "             ...        \n",
       "95   2023-10-10 08:00:59\n",
       "96   2023-10-10 03:19:18\n",
       "97   2023-10-09 17:25:06\n",
       "98   2023-10-09 17:02:20\n",
       "99   2023-10-09 10:44:00\n",
       "Name: at, Length: 100, dtype: datetime64[ns]"
      ]
     },
     "execution_count": 39,
     "metadata": {},
     "output_type": "execute_result"
    }
   ],
   "source": [
    "df.loc[:,\"at\"]"
   ]
  },
  {
   "cell_type": "code",
   "execution_count": 43,
   "id": "a43625d5",
   "metadata": {},
   "outputs": [
    {
     "data": {
      "text/plain": [
       "at\n",
       "2023-12-05 14:47:40    1\n",
       "2023-11-05 01:24:22    1\n",
       "2023-10-26 06:25:48    1\n",
       "2023-10-26 08:23:28    1\n",
       "2023-10-28 04:27:01    1\n",
       "                      ..\n",
       "2023-11-22 10:03:41    1\n",
       "2023-11-22 12:07:26    1\n",
       "2023-11-23 15:36:22    1\n",
       "2023-11-23 15:45:07    1\n",
       "2023-10-09 10:44:00    1\n",
       "Name: count, Length: 100, dtype: int64"
      ]
     },
     "execution_count": 43,
     "metadata": {},
     "output_type": "execute_result"
    }
   ],
   "source": [
    "counts_df = df['at'].value_counts()\n",
    "counts_df"
   ]
  },
  {
   "cell_type": "markdown",
   "id": "7b6818db",
   "metadata": {},
   "source": [
    "# Bivariate Analysis"
   ]
  },
  {
   "cell_type": "code",
   "execution_count": 50,
   "id": "60097871",
   "metadata": {},
   "outputs": [
    {
     "data": {
      "text/html": [
       "<div>\n",
       "<style scoped>\n",
       "    .dataframe tbody tr th:only-of-type {\n",
       "        vertical-align: middle;\n",
       "    }\n",
       "\n",
       "    .dataframe tbody tr th {\n",
       "        vertical-align: top;\n",
       "    }\n",
       "\n",
       "    .dataframe thead th {\n",
       "        text-align: right;\n",
       "    }\n",
       "</style>\n",
       "<table border=\"1\" class=\"dataframe\">\n",
       "  <thead>\n",
       "    <tr style=\"text-align: right;\">\n",
       "      <th></th>\n",
       "      <th>reviewId</th>\n",
       "      <th>userName</th>\n",
       "      <th>score</th>\n",
       "      <th>Comments</th>\n",
       "      <th>Sentiment</th>\n",
       "    </tr>\n",
       "  </thead>\n",
       "  <tbody>\n",
       "    <tr>\n",
       "      <th>0</th>\n",
       "      <td>910fa3ea-29db-4e6d-972b-83a7ccf0b381</td>\n",
       "      <td>Abnet Hussien</td>\n",
       "      <td>1</td>\n",
       "      <td>it fails proceeding after sending OTP for regi...</td>\n",
       "      <td>Negative</td>\n",
       "    </tr>\n",
       "    <tr>\n",
       "      <th>1</th>\n",
       "      <td>1c92335c-20cf-4dc8-8108-40c5ca406669</td>\n",
       "      <td>Paul Flower</td>\n",
       "      <td>4</td>\n",
       "      <td>I like all features of this app but, airtime t...</td>\n",
       "      <td>Neutral</td>\n",
       "    </tr>\n",
       "    <tr>\n",
       "      <th>2</th>\n",
       "      <td>1d9285f6-3570-43b1-b649-dfbffa671471</td>\n",
       "      <td>Fenkl Massawa (fenkl)</td>\n",
       "      <td>5</td>\n",
       "      <td>I like this app</td>\n",
       "      <td>Neutral</td>\n",
       "    </tr>\n",
       "    <tr>\n",
       "      <th>3</th>\n",
       "      <td>26a50719-d3b5-4703-a942-5640e04d824a</td>\n",
       "      <td>Mula Boad</td>\n",
       "      <td>5</td>\n",
       "      <td>Litterally i am well exprienced in social medi...</td>\n",
       "      <td>Neutral</td>\n",
       "    </tr>\n",
       "    <tr>\n",
       "      <th>4</th>\n",
       "      <td>4f2712f8-4b7f-45e7-8afb-90556692a6b5</td>\n",
       "      <td>yegna gojo</td>\n",
       "      <td>5</td>\n",
       "      <td>Good</td>\n",
       "      <td>Positive</td>\n",
       "    </tr>\n",
       "  </tbody>\n",
       "</table>\n",
       "</div>"
      ],
      "text/plain": [
       "                               reviewId               userName  score  \\\n",
       "0  910fa3ea-29db-4e6d-972b-83a7ccf0b381          Abnet Hussien      1   \n",
       "1  1c92335c-20cf-4dc8-8108-40c5ca406669            Paul Flower      4   \n",
       "2  1d9285f6-3570-43b1-b649-dfbffa671471  Fenkl Massawa (fenkl)      5   \n",
       "3  26a50719-d3b5-4703-a942-5640e04d824a              Mula Boad      5   \n",
       "4  4f2712f8-4b7f-45e7-8afb-90556692a6b5             yegna gojo      5   \n",
       "\n",
       "                                            Comments Sentiment  \n",
       "0  it fails proceeding after sending OTP for regi...  Negative  \n",
       "1  I like all features of this app but, airtime t...   Neutral  \n",
       "2                                    I like this app   Neutral  \n",
       "3  Litterally i am well exprienced in social medi...   Neutral  \n",
       "4                                               Good  Positive  "
      ]
     },
     "execution_count": 50,
     "metadata": {},
     "output_type": "execute_result"
    }
   ],
   "source": [
    "user_engagement_df = df[['reviewId', 'userName', 'score', 'Comments','Sentiment']]\n",
    "user_engagement_df.head()\n"
   ]
  },
  {
   "cell_type": "code",
   "execution_count": 51,
   "id": "2cd95edb",
   "metadata": {},
   "outputs": [],
   "source": [
    "outlier_handler = OutlierHandler(user_engagement_df)"
   ]
  },
  {
   "cell_type": "code",
   "execution_count": 52,
   "id": "55d24a38",
   "metadata": {},
   "outputs": [
    {
     "data": {
      "text/plain": [
       "<Axes: >"
      ]
     },
     "execution_count": 52,
     "metadata": {},
     "output_type": "execute_result"
    },
    {
     "data": {
      "image/png": "[encoded data removed]",
      "text/plain": [
       "<Figure size 640x480 with 1 Axes>"
      ]
     },
     "metadata": {},
     "output_type": "display_data"
    }
   ],
   "source": [
    "user_engagement_df.boxplot()"
   ]
  },
  {
   "cell_type": "code",
   "execution_count": null,
   "id": "c22b5d0c",
   "metadata": {},
   "outputs": [],
   "source": []
  }
 ],
 "metadata": {
  "kernelspec": {
   "display_name": "Python 3 (ipykernel)",
   "language": "python",
   "name": "python3"
  },
  "language_info": {
   "codemirror_mode": {
    "name": "ipython",
    "version": 3
   },
   "file_extension": ".py",
   "mimetype": "text/x-python",
   "name": "python",
   "nbconvert_exporter": "python",
   "pygments_lexer": "ipython3",
   "version": "3.11.7"
  }
 },
 "nbformat": 4,
 "nbformat_minor": 5
}
