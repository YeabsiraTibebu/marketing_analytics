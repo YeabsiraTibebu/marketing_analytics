{
 "cells": [
  {
   "cell_type": "code",
   "execution_count": 117,
   "id": "a46009dd",
   "metadata": {},
   "outputs": [],
   "source": [
    "import sys\n",
    "import os\n",
    "import pandas as pd\n",
    "import datetime as dt\n",
    "from dotenv import load_dotenv\n",
    "import pyodbc\n",
    "import numpy as np\n",
    "import matplotlib.pyplot as plt\n",
    "import psycopg2\n",
    "import seaborn as sns\n",
    "from sqlalchemy import create_engine\n",
    "os.chdir('..')\n",
    "from db_connection.connection import PostgresConnection\n",
    "from src.df_cleaner import *\n",
    "from src.df_outlier_handler import OutlierHandler"
   ]
  },
  {
   "cell_type": "code",
   "execution_count": 91,
   "id": "8e9db11f",
   "metadata": {},
   "outputs": [],
   "source": [
    "import warnings\n",
    "warnings.filterwarnings('ignore')\n"
   ]
  },
  {
   "cell_type": "code",
   "execution_count": 92,
   "id": "ea602b48",
   "metadata": {},
   "outputs": [
    {
     "name": "stdout",
     "output_type": "stream",
     "text": [
      "Connected to PostgreSQL database!\n"
     ]
    }
   ],
   "source": [
    "db = PostgresConnection(dbname='postgres', user='postgres', password='postgres')\n",
    "db.connect()\n",
    "\n",
    "# load BOA App review data \n",
    "query = \"SELECT * FROM banks_data\"\n",
    "result = db.execute_query(query)\n",
    "\n",
    "\n",
    "df = pd.DataFrame(result, columns=[desc[0] for desc in db.cursor.description])\n",
    "#print(df.head()) \n",
    "#db.close_connection()\n"
   ]
  },
  {
   "cell_type": "markdown",
   "id": "70cb0166",
   "metadata": {},
   "source": [
    "# General Statistics"
   ]
  },
  {
   "cell_type": "code",
   "execution_count": 93,
   "id": "01056c70",
   "metadata": {},
   "outputs": [
    {
     "data": {
      "text/plain": [
       "816"
      ]
     },
     "execution_count": 93,
     "metadata": {},
     "output_type": "execute_result"
    }
   ],
   "source": [
    "df.size"
   ]
  },
  {
   "cell_type": "code",
   "execution_count": 94,
   "id": "2f48c7e2",
   "metadata": {},
   "outputs": [
    {
     "data": {
      "text/html": [
       "<div>\n",
       "<style scoped>\n",
       "    .dataframe tbody tr th:only-of-type {\n",
       "        vertical-align: middle;\n",
       "    }\n",
       "\n",
       "    .dataframe tbody tr th {\n",
       "        vertical-align: top;\n",
       "    }\n",
       "\n",
       "    .dataframe thead th {\n",
       "        text-align: right;\n",
       "    }\n",
       "</style>\n",
       "<table border=\"1\" class=\"dataframe\">\n",
       "  <thead>\n",
       "    <tr style=\"text-align: right;\">\n",
       "      <th></th>\n",
       "      <th>post_link</th>\n",
       "      <th>date</th>\n",
       "      <th>views</th>\n",
       "      <th>post_time</th>\n",
       "      <th>bank</th>\n",
       "      <th>time_of_day</th>\n",
       "    </tr>\n",
       "  </thead>\n",
       "  <tbody>\n",
       "    <tr>\n",
       "      <th>0</th>\n",
       "      <td>https://t.me/tikvahethiopia/70382</td>\n",
       "      <td>2022-05-19</td>\n",
       "      <td>310300</td>\n",
       "      <td>13:47:14</td>\n",
       "      <td>#CBE</td>\n",
       "      <td>afternoon</td>\n",
       "    </tr>\n",
       "    <tr>\n",
       "      <th>1</th>\n",
       "      <td>https://t.me/tikvahethiopia/70383</td>\n",
       "      <td>2022-05-19</td>\n",
       "      <td>310300</td>\n",
       "      <td>13:47:14</td>\n",
       "      <td>#CBE</td>\n",
       "      <td>afternoon</td>\n",
       "    </tr>\n",
       "    <tr>\n",
       "      <th>2</th>\n",
       "      <td>https://t.me/tikvahethiopia/73378</td>\n",
       "      <td>2022-08-30</td>\n",
       "      <td>267400</td>\n",
       "      <td>11:13:05</td>\n",
       "      <td>#CBE</td>\n",
       "      <td>morning</td>\n",
       "    </tr>\n",
       "    <tr>\n",
       "      <th>3</th>\n",
       "      <td>https://t.me/tikvahethiopia/73379</td>\n",
       "      <td>2022-08-30</td>\n",
       "      <td>267400</td>\n",
       "      <td>11:13:05</td>\n",
       "      <td>#CBE</td>\n",
       "      <td>morning</td>\n",
       "    </tr>\n",
       "    <tr>\n",
       "      <th>4</th>\n",
       "      <td>https://t.me/tikvahethiopia/74556</td>\n",
       "      <td>2022-11-03</td>\n",
       "      <td>347100</td>\n",
       "      <td>16:07:35</td>\n",
       "      <td>#CBE</td>\n",
       "      <td>afternoon</td>\n",
       "    </tr>\n",
       "  </tbody>\n",
       "</table>\n",
       "</div>"
      ],
      "text/plain": [
       "                           post_link        date   views post_time  bank  \\\n",
       "0  https://t.me/tikvahethiopia/70382  2022-05-19  310300  13:47:14  #CBE   \n",
       "1  https://t.me/tikvahethiopia/70383  2022-05-19  310300  13:47:14  #CBE   \n",
       "2  https://t.me/tikvahethiopia/73378  2022-08-30  267400  11:13:05  #CBE   \n",
       "3  https://t.me/tikvahethiopia/73379  2022-08-30  267400  11:13:05  #CBE   \n",
       "4  https://t.me/tikvahethiopia/74556  2022-11-03  347100  16:07:35  #CBE   \n",
       "\n",
       "  time_of_day  \n",
       "0   afternoon  \n",
       "1   afternoon  \n",
       "2     morning  \n",
       "3     morning  \n",
       "4   afternoon  "
      ]
     },
     "execution_count": 94,
     "metadata": {},
     "output_type": "execute_result"
    }
   ],
   "source": [
    "df.head()"
   ]
  },
  {
   "cell_type": "code",
   "execution_count": 95,
   "id": "8dbe35d8",
   "metadata": {},
   "outputs": [
    {
     "data": {
      "text/plain": [
       "(136, 6)"
      ]
     },
     "execution_count": 95,
     "metadata": {},
     "output_type": "execute_result"
    }
   ],
   "source": [
    "df.shape"
   ]
  },
  {
   "cell_type": "code",
   "execution_count": 96,
   "id": "8cd48c51",
   "metadata": {},
   "outputs": [
    {
     "name": "stdout",
     "output_type": "stream",
     "text": [
      "<class 'pandas.core.frame.DataFrame'>\n",
      "RangeIndex: 136 entries, 0 to 135\n",
      "Data columns (total 6 columns):\n",
      " #   Column       Non-Null Count  Dtype \n",
      "---  ------       --------------  ----- \n",
      " 0   post_link    136 non-null    object\n",
      " 1   date         135 non-null    object\n",
      " 2   views        136 non-null    int64 \n",
      " 3   post_time    135 non-null    object\n",
      " 4   bank         136 non-null    object\n",
      " 5   time_of_day  135 non-null    object\n",
      "dtypes: int64(1), object(5)\n",
      "memory usage: 6.5+ KB\n"
     ]
    }
   ],
   "source": [
    "df.info()"
   ]
  },
  {
   "cell_type": "code",
   "execution_count": 97,
   "id": "bb849636",
   "metadata": {},
   "outputs": [
    {
     "data": {
      "text/html": [
       "<div>\n",
       "<style scoped>\n",
       "    .dataframe tbody tr th:only-of-type {\n",
       "        vertical-align: middle;\n",
       "    }\n",
       "\n",
       "    .dataframe tbody tr th {\n",
       "        vertical-align: top;\n",
       "    }\n",
       "\n",
       "    .dataframe thead th {\n",
       "        text-align: right;\n",
       "    }\n",
       "</style>\n",
       "<table border=\"1\" class=\"dataframe\">\n",
       "  <thead>\n",
       "    <tr style=\"text-align: right;\">\n",
       "      <th></th>\n",
       "      <th>views</th>\n",
       "    </tr>\n",
       "  </thead>\n",
       "  <tbody>\n",
       "    <tr>\n",
       "      <th>count</th>\n",
       "      <td>136.000000</td>\n",
       "    </tr>\n",
       "    <tr>\n",
       "      <th>mean</th>\n",
       "      <td>272208.823529</td>\n",
       "    </tr>\n",
       "    <tr>\n",
       "      <th>std</th>\n",
       "      <td>35069.289024</td>\n",
       "    </tr>\n",
       "    <tr>\n",
       "      <th>min</th>\n",
       "      <td>193500.000000</td>\n",
       "    </tr>\n",
       "    <tr>\n",
       "      <th>25%</th>\n",
       "      <td>249700.000000</td>\n",
       "    </tr>\n",
       "    <tr>\n",
       "      <th>50%</th>\n",
       "      <td>267400.000000</td>\n",
       "    </tr>\n",
       "    <tr>\n",
       "      <th>75%</th>\n",
       "      <td>298325.000000</td>\n",
       "    </tr>\n",
       "    <tr>\n",
       "      <th>max</th>\n",
       "      <td>347100.000000</td>\n",
       "    </tr>\n",
       "  </tbody>\n",
       "</table>\n",
       "</div>"
      ],
      "text/plain": [
       "               views\n",
       "count     136.000000\n",
       "mean   272208.823529\n",
       "std     35069.289024\n",
       "min    193500.000000\n",
       "25%    249700.000000\n",
       "50%    267400.000000\n",
       "75%    298325.000000\n",
       "max    347100.000000"
      ]
     },
     "execution_count": 97,
     "metadata": {},
     "output_type": "execute_result"
    }
   ],
   "source": [
    "df.describe()"
   ]
  },
  {
   "cell_type": "markdown",
   "id": "c1c23dcf",
   "metadata": {},
   "source": [
    "# Missing Values"
   ]
  },
  {
   "cell_type": "code",
   "execution_count": 98,
   "id": "92b969f9",
   "metadata": {},
   "outputs": [
    {
     "name": "stdout",
     "output_type": "stream",
     "text": [
      "The dataset contains 0.37 % missing values.\n"
     ]
    }
   ],
   "source": [
    "percent_missing_values(df)"
   ]
  },
  {
   "cell_type": "code",
   "execution_count": 102,
   "id": "3e447a3c",
   "metadata": {},
   "outputs": [
    {
     "data": {
      "text/plain": [
       "post_link      0\n",
       "date           1\n",
       "views          0\n",
       "post_time      1\n",
       "bank           0\n",
       "time_of_day    1\n",
       "dtype: int64"
      ]
     },
     "execution_count": 102,
     "metadata": {},
     "output_type": "execute_result"
    }
   ],
   "source": [
    "df.isnull().sum()"
   ]
  },
  {
   "cell_type": "code",
   "execution_count": 103,
   "id": "b1e202b7",
   "metadata": {},
   "outputs": [
    {
     "data": {
      "text/html": [
       "<div>\n",
       "<style scoped>\n",
       "    .dataframe tbody tr th:only-of-type {\n",
       "        vertical-align: middle;\n",
       "    }\n",
       "\n",
       "    .dataframe tbody tr th {\n",
       "        vertical-align: top;\n",
       "    }\n",
       "\n",
       "    .dataframe thead th {\n",
       "        text-align: right;\n",
       "    }\n",
       "</style>\n",
       "<table border=\"1\" class=\"dataframe\">\n",
       "  <thead>\n",
       "    <tr style=\"text-align: right;\">\n",
       "      <th></th>\n",
       "      <th>post_link</th>\n",
       "      <th>date</th>\n",
       "      <th>views</th>\n",
       "      <th>post_time</th>\n",
       "      <th>bank</th>\n",
       "      <th>time_of_day</th>\n",
       "    </tr>\n",
       "  </thead>\n",
       "  <tbody>\n",
       "    <tr>\n",
       "      <th>0</th>\n",
       "      <td>https://t.me/tikvahethiopia/70382</td>\n",
       "      <td>2022-05-19</td>\n",
       "      <td>310300</td>\n",
       "      <td>13:47:14</td>\n",
       "      <td>#CBE</td>\n",
       "      <td>afternoon</td>\n",
       "    </tr>\n",
       "    <tr>\n",
       "      <th>1</th>\n",
       "      <td>https://t.me/tikvahethiopia/70383</td>\n",
       "      <td>2022-05-19</td>\n",
       "      <td>310300</td>\n",
       "      <td>13:47:14</td>\n",
       "      <td>#CBE</td>\n",
       "      <td>afternoon</td>\n",
       "    </tr>\n",
       "    <tr>\n",
       "      <th>2</th>\n",
       "      <td>https://t.me/tikvahethiopia/73378</td>\n",
       "      <td>2022-08-30</td>\n",
       "      <td>267400</td>\n",
       "      <td>11:13:05</td>\n",
       "      <td>#CBE</td>\n",
       "      <td>morning</td>\n",
       "    </tr>\n",
       "    <tr>\n",
       "      <th>3</th>\n",
       "      <td>https://t.me/tikvahethiopia/73379</td>\n",
       "      <td>2022-08-30</td>\n",
       "      <td>267400</td>\n",
       "      <td>11:13:05</td>\n",
       "      <td>#CBE</td>\n",
       "      <td>morning</td>\n",
       "    </tr>\n",
       "    <tr>\n",
       "      <th>4</th>\n",
       "      <td>https://t.me/tikvahethiopia/74556</td>\n",
       "      <td>2022-11-03</td>\n",
       "      <td>347100</td>\n",
       "      <td>16:07:35</td>\n",
       "      <td>#CBE</td>\n",
       "      <td>afternoon</td>\n",
       "    </tr>\n",
       "    <tr>\n",
       "      <th>...</th>\n",
       "      <td>...</td>\n",
       "      <td>...</td>\n",
       "      <td>...</td>\n",
       "      <td>...</td>\n",
       "      <td>...</td>\n",
       "      <td>...</td>\n",
       "    </tr>\n",
       "    <tr>\n",
       "      <th>131</th>\n",
       "      <td>https://t.me/tikvahethiopia/87071</td>\n",
       "      <td>2024-04-21</td>\n",
       "      <td>311800</td>\n",
       "      <td>11:52:03</td>\n",
       "      <td>#CBE</td>\n",
       "      <td>morning</td>\n",
       "    </tr>\n",
       "    <tr>\n",
       "      <th>132</th>\n",
       "      <td>https://t.me/tikvahethiopia/87116</td>\n",
       "      <td>2024-04-23</td>\n",
       "      <td>245400</td>\n",
       "      <td>06:51:39</td>\n",
       "      <td>#CBE</td>\n",
       "      <td>morning</td>\n",
       "    </tr>\n",
       "    <tr>\n",
       "      <th>133</th>\n",
       "      <td>https://t.me/tikvahethiopia/87117</td>\n",
       "      <td>2024-04-23</td>\n",
       "      <td>245400</td>\n",
       "      <td>06:51:39</td>\n",
       "      <td>#CBE</td>\n",
       "      <td>morning</td>\n",
       "    </tr>\n",
       "    <tr>\n",
       "      <th>134</th>\n",
       "      <td>https://t.me/tikvahethiopia/87629</td>\n",
       "      <td>2024-05-13</td>\n",
       "      <td>259700</td>\n",
       "      <td>17:11:15</td>\n",
       "      <td>#Hibretbank</td>\n",
       "      <td>afternoon</td>\n",
       "    </tr>\n",
       "    <tr>\n",
       "      <th>135</th>\n",
       "      <td>https://t.me/tikvahethiopia/87769</td>\n",
       "      <td>2024-05-20</td>\n",
       "      <td>264000</td>\n",
       "      <td>06:25:35</td>\n",
       "      <td>#Hibretbank</td>\n",
       "      <td>morning</td>\n",
       "    </tr>\n",
       "  </tbody>\n",
       "</table>\n",
       "<p>136 rows × 6 columns</p>\n",
       "</div>"
      ],
      "text/plain": [
       "                             post_link        date   views post_time  \\\n",
       "0    https://t.me/tikvahethiopia/70382  2022-05-19  310300  13:47:14   \n",
       "1    https://t.me/tikvahethiopia/70383  2022-05-19  310300  13:47:14   \n",
       "2    https://t.me/tikvahethiopia/73378  2022-08-30  267400  11:13:05   \n",
       "3    https://t.me/tikvahethiopia/73379  2022-08-30  267400  11:13:05   \n",
       "4    https://t.me/tikvahethiopia/74556  2022-11-03  347100  16:07:35   \n",
       "..                                 ...         ...     ...       ...   \n",
       "131  https://t.me/tikvahethiopia/87071  2024-04-21  311800  11:52:03   \n",
       "132  https://t.me/tikvahethiopia/87116  2024-04-23  245400  06:51:39   \n",
       "133  https://t.me/tikvahethiopia/87117  2024-04-23  245400  06:51:39   \n",
       "134  https://t.me/tikvahethiopia/87629  2024-05-13  259700  17:11:15   \n",
       "135  https://t.me/tikvahethiopia/87769  2024-05-20  264000  06:25:35   \n",
       "\n",
       "            bank time_of_day  \n",
       "0           #CBE   afternoon  \n",
       "1           #CBE   afternoon  \n",
       "2           #CBE     morning  \n",
       "3           #CBE     morning  \n",
       "4           #CBE   afternoon  \n",
       "..           ...         ...  \n",
       "131         #CBE     morning  \n",
       "132         #CBE     morning  \n",
       "133         #CBE     morning  \n",
       "134  #Hibretbank   afternoon  \n",
       "135  #Hibretbank     morning  \n",
       "\n",
       "[136 rows x 6 columns]"
      ]
     },
     "execution_count": 103,
     "metadata": {},
     "output_type": "execute_result"
    }
   ],
   "source": [
    "df = df.fillna(value = 0)\n",
    "df"
   ]
  },
  {
   "cell_type": "code",
   "execution_count": 104,
   "id": "d29ffe7a",
   "metadata": {
    "scrolled": true
   },
   "outputs": [
    {
     "name": "stdout",
     "output_type": "stream",
     "text": [
      "The dataset contains 0.0 % missing values.\n"
     ]
    }
   ],
   "source": [
    "percent_missing_values(df)"
   ]
  },
  {
   "cell_type": "markdown",
   "id": "638c208e",
   "metadata": {},
   "source": [
    "# Univariate Analysis"
   ]
  },
  {
   "cell_type": "code",
   "execution_count": 106,
   "id": "a7f4f348",
   "metadata": {},
   "outputs": [
    {
     "data": {
      "text/plain": [
       "106"
      ]
     },
     "execution_count": 106,
     "metadata": {},
     "output_type": "execute_result"
    }
   ],
   "source": [
    "unique_counts = df['views'].nunique()\n",
    "unique_counts"
   ]
  },
  {
   "cell_type": "code",
   "execution_count": 113,
   "id": "3fd36be5",
   "metadata": {},
   "outputs": [
    {
     "data": {
      "text/plain": [
       "5"
      ]
     },
     "execution_count": 113,
     "metadata": {},
     "output_type": "execute_result"
    }
   ],
   "source": [
    "unique_counts = df['bank'].nunique()\n",
    "unique_counts"
   ]
  },
  {
   "cell_type": "code",
   "execution_count": 114,
   "id": "3c4e4f3c",
   "metadata": {},
   "outputs": [
    {
     "data": {
      "text/plain": [
       "4"
      ]
     },
     "execution_count": 114,
     "metadata": {},
     "output_type": "execute_result"
    }
   ],
   "source": [
    "unique_counts = df['time_of_day'].nunique()\n",
    "unique_counts"
   ]
  },
  {
   "cell_type": "markdown",
   "id": "59f3d56c",
   "metadata": {},
   "source": [
    "# Experiment"
   ]
  },
  {
   "cell_type": "code",
   "execution_count": 119,
   "id": "7ee517f4",
   "metadata": {},
   "outputs": [
    {
     "data": {
      "text/plain": [
       "bank\n",
       "#CBE                   85\n",
       "#GlobalBankEthiopia    27\n",
       "#Hibretbank            15\n",
       "#AwashBank              5\n",
       "#WegagenBank            4\n",
       "Name: count, dtype: int64"
      ]
     },
     "execution_count": 119,
     "metadata": {},
     "output_type": "execute_result"
    }
   ],
   "source": [
    "counts_df = df['bank'].value_counts()\n",
    "counts_df"
   ]
  },
  {
   "cell_type": "code",
   "execution_count": 126,
   "id": "601cbd6e",
   "metadata": {},
   "outputs": [
    {
     "data": {
      "image/png": "[encoded data removed]",
      "text/plain": [
       "<Figure size 1200x600 with 1 Axes>"
      ]
     },
     "metadata": {},
     "output_type": "display_data"
    }
   ],
   "source": [
    "plt.figure(figsize=(12, 6))\n",
    "plt.title('Unique value counts of time_of_day')\n",
    "sns.countplot(data=df, x='time_of_day')\n",
    "plt.show()"
   ]
  },
  {
   "cell_type": "code",
   "execution_count": 121,
   "id": "9c444b70",
   "metadata": {},
   "outputs": [
    {
     "data": {
      "image/png": "[encoded data removed]",
      "text/plain": [
       "<Figure size 1200x600 with 1 Axes>"
      ]
     },
     "metadata": {},
     "output_type": "display_data"
    }
   ],
   "source": [
    "plt.figure(figsize=(12, 6))\n",
    "plt.title('Unique value counts of banks')\n",
    "sns.countplot(data=df, x='bank')\n",
    "plt.show()"
   ]
  },
  {
   "cell_type": "code",
   "execution_count": null,
   "id": "881699f9",
   "metadata": {},
   "outputs": [],
   "source": [
    "df[\"at\"] = pd.to_datetime(df[\"at\"])\n",
    "df[\"at\"] "
   ]
  },
  {
   "cell_type": "markdown",
   "id": "5e39fed8",
   "metadata": {},
   "source": [
    "# Outliers"
   ]
  },
  {
   "cell_type": "code",
   "execution_count": 123,
   "id": "6d0f6902",
   "metadata": {},
   "outputs": [
    {
     "data": {
      "text/html": [
       "<div>\n",
       "<style scoped>\n",
       "    .dataframe tbody tr th:only-of-type {\n",
       "        vertical-align: middle;\n",
       "    }\n",
       "\n",
       "    .dataframe tbody tr th {\n",
       "        vertical-align: top;\n",
       "    }\n",
       "\n",
       "    .dataframe thead th {\n",
       "        text-align: right;\n",
       "    }\n",
       "</style>\n",
       "<table border=\"1\" class=\"dataframe\">\n",
       "  <thead>\n",
       "    <tr style=\"text-align: right;\">\n",
       "      <th></th>\n",
       "      <th>post_link</th>\n",
       "      <th>date</th>\n",
       "      <th>views</th>\n",
       "      <th>post_time</th>\n",
       "      <th>bank</th>\n",
       "      <th>time_of_day</th>\n",
       "    </tr>\n",
       "  </thead>\n",
       "  <tbody>\n",
       "    <tr>\n",
       "      <th>0</th>\n",
       "      <td>https://t.me/tikvahethiopia/70382</td>\n",
       "      <td>2022-05-19</td>\n",
       "      <td>310300</td>\n",
       "      <td>13:47:14</td>\n",
       "      <td>#CBE</td>\n",
       "      <td>afternoon</td>\n",
       "    </tr>\n",
       "    <tr>\n",
       "      <th>1</th>\n",
       "      <td>https://t.me/tikvahethiopia/70383</td>\n",
       "      <td>2022-05-19</td>\n",
       "      <td>310300</td>\n",
       "      <td>13:47:14</td>\n",
       "      <td>#CBE</td>\n",
       "      <td>afternoon</td>\n",
       "    </tr>\n",
       "    <tr>\n",
       "      <th>2</th>\n",
       "      <td>https://t.me/tikvahethiopia/73378</td>\n",
       "      <td>2022-08-30</td>\n",
       "      <td>267400</td>\n",
       "      <td>11:13:05</td>\n",
       "      <td>#CBE</td>\n",
       "      <td>morning</td>\n",
       "    </tr>\n",
       "    <tr>\n",
       "      <th>3</th>\n",
       "      <td>https://t.me/tikvahethiopia/73379</td>\n",
       "      <td>2022-08-30</td>\n",
       "      <td>267400</td>\n",
       "      <td>11:13:05</td>\n",
       "      <td>#CBE</td>\n",
       "      <td>morning</td>\n",
       "    </tr>\n",
       "    <tr>\n",
       "      <th>4</th>\n",
       "      <td>https://t.me/tikvahethiopia/74556</td>\n",
       "      <td>2022-11-03</td>\n",
       "      <td>347100</td>\n",
       "      <td>16:07:35</td>\n",
       "      <td>#CBE</td>\n",
       "      <td>afternoon</td>\n",
       "    </tr>\n",
       "  </tbody>\n",
       "</table>\n",
       "</div>"
      ],
      "text/plain": [
       "                           post_link        date   views post_time  bank  \\\n",
       "0  https://t.me/tikvahethiopia/70382  2022-05-19  310300  13:47:14  #CBE   \n",
       "1  https://t.me/tikvahethiopia/70383  2022-05-19  310300  13:47:14  #CBE   \n",
       "2  https://t.me/tikvahethiopia/73378  2022-08-30  267400  11:13:05  #CBE   \n",
       "3  https://t.me/tikvahethiopia/73379  2022-08-30  267400  11:13:05  #CBE   \n",
       "4  https://t.me/tikvahethiopia/74556  2022-11-03  347100  16:07:35  #CBE   \n",
       "\n",
       "  time_of_day  \n",
       "0   afternoon  \n",
       "1   afternoon  \n",
       "2     morning  \n",
       "3     morning  \n",
       "4   afternoon  "
      ]
     },
     "execution_count": 123,
     "metadata": {},
     "output_type": "execute_result"
    }
   ],
   "source": [
    "user_engagement_df = df[['post_link', 'date', 'views', 'post_time','bank','time_of_day']]\n",
    "user_engagement_df.head()"
   ]
  },
  {
   "cell_type": "code",
   "execution_count": 124,
   "id": "5d1e4034",
   "metadata": {},
   "outputs": [],
   "source": [
    "outlier_handler = OutlierHandler(user_engagement_df)"
   ]
  },
  {
   "cell_type": "code",
   "execution_count": 125,
   "id": "bf091643",
   "metadata": {},
   "outputs": [
    {
     "data": {
      "text/plain": [
       "<Axes: >"
      ]
     },
     "execution_count": 125,
     "metadata": {},
     "output_type": "execute_result"
    },
    {
     "data": {
      "image/png": "[encoded data removed]",
      "text/plain": [
       "<Figure size 640x480 with 1 Axes>"
      ]
     },
     "metadata": {},
     "output_type": "display_data"
    }
   ],
   "source": [
    "user_engagement_df.boxplot()"
   ]
  }
 ],
 "metadata": {
  "kernelspec": {
   "display_name": "Python 3 (ipykernel)",
   "language": "python",
   "name": "python3"
  },
  "language_info": {
   "codemirror_mode": {
    "name": "ipython",
    "version": 3
   },
   "file_extension": ".py",
   "mimetype": "text/x-python",
   "name": "python",
   "nbconvert_exporter": "python",
   "pygments_lexer": "ipython3",
   "version": "3.11.7"
  }
 },
 "nbformat": 4,
 "nbformat_minor": 5
}
