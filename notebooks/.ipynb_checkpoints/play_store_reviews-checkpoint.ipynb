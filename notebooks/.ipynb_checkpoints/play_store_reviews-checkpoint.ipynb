{
 "cells": [
  {
   "cell_type": "code",
   "execution_count": 19,
   "id": "14fd35fe",
   "metadata": {},
   "outputs": [],
   "source": [
    "import sys\n",
    "import os\n",
    "import pandas as pd\n",
    "import datetime as dt\n",
    "from dotenv import load_dotenv\n",
    "import pyodbc\n",
    "import numpy as np\n",
    "import matplotlib.pyplot as plt\n",
    "import psycopg2\n",
    "import seaborn as sns\n",
    "from sqlalchemy import create_engine\n",
    "os.chdir('..')\n",
    "from db_connection.connection import PostgresConnection\n",
    "from src.df_cleaner import *\n",
    "from src.df_outlier_handler import OutlierHandler"
   ]
  },
  {
   "cell_type": "code",
   "execution_count": 2,
   "id": "3da3e5ca",
   "metadata": {},
   "outputs": [],
   "source": [
    "import warnings\n",
    "warnings.filterwarnings('ignore')"
   ]
  },
  {
   "cell_type": "code",
   "execution_count": 3,
   "id": "4ff7d229",
   "metadata": {},
   "outputs": [
    {
     "name": "stdout",
     "output_type": "stream",
     "text": [
      "Connected to PostgreSQL database!\n"
     ]
    }
   ],
   "source": [
    "db = PostgresConnection(dbname='postgres', user='postgres', password='postgres')\n",
    "db.connect()\n",
    "\n",
    "# load BOA App review data \n",
    "query = \"SELECT * FROM review_data\"\n",
    "result = db.execute_query(query)\n",
    "\n",
    "df = pd.DataFrame(result, columns=[desc[0] for desc in db.cursor.description])"
   ]
  },
  {
   "cell_type": "markdown",
   "id": "5d7fca53",
   "metadata": {},
   "source": [
    "# General Statistics"
   ]
  },
  {
   "cell_type": "code",
   "execution_count": 4,
   "id": "523316ff",
   "metadata": {},
   "outputs": [
    {
     "data": {
      "text/plain": [
       "4500"
      ]
     },
     "execution_count": 4,
     "metadata": {},
     "output_type": "execute_result"
    }
   ],
   "source": [
    "df.size\n"
   ]
  },
  {
   "cell_type": "code",
   "execution_count": 5,
   "id": "51f2c1b8",
   "metadata": {},
   "outputs": [
    {
     "data": {
      "text/html": [
       "<div>\n",
       "<style scoped>\n",
       "    .dataframe tbody tr th:only-of-type {\n",
       "        vertical-align: middle;\n",
       "    }\n",
       "\n",
       "    .dataframe tbody tr th {\n",
       "        vertical-align: top;\n",
       "    }\n",
       "\n",
       "    .dataframe thead th {\n",
       "        text-align: right;\n",
       "    }\n",
       "</style>\n",
       "<table border=\"1\" class=\"dataframe\">\n",
       "  <thead>\n",
       "    <tr style=\"text-align: right;\">\n",
       "      <th></th>\n",
       "      <th>review_id</th>\n",
       "      <th>user_name</th>\n",
       "      <th>user_image</th>\n",
       "      <th>likes</th>\n",
       "      <th>review_created_version</th>\n",
       "      <th>created_at</th>\n",
       "      <th>reply_content</th>\n",
       "      <th>replied_at</th>\n",
       "      <th>app_version</th>\n",
       "      <th>score</th>\n",
       "      <th>comments</th>\n",
       "      <th>keywords</th>\n",
       "      <th>lda_category</th>\n",
       "      <th>sentiment</th>\n",
       "      <th>insight</th>\n",
       "    </tr>\n",
       "  </thead>\n",
       "  <tbody>\n",
       "    <tr>\n",
       "      <th>0</th>\n",
       "      <td>738b6d3a-2d7f-4a82-bfe2-dcf32591f944</td>\n",
       "      <td>NAHOM NIGUSSIE</td>\n",
       "      <td>https://play-lh.googleusercontent.com/a-/ALV-U...</td>\n",
       "      <td>1</td>\n",
       "      <td>None</td>\n",
       "      <td>2024-05-21 18:38:28</td>\n",
       "      <td>None</td>\n",
       "      <td>None</td>\n",
       "      <td>None</td>\n",
       "      <td>2</td>\n",
       "      <td>Slow and buggy crashed all the time need a lot...</td>\n",
       "      <td>None</td>\n",
       "      <td>None</td>\n",
       "      <td>None</td>\n",
       "      <td>None</td>\n",
       "    </tr>\n",
       "    <tr>\n",
       "      <th>1</th>\n",
       "      <td>e20abe49-8fe7-42fe-af3a-91399875b21a</td>\n",
       "      <td>Abbatu Ermias</td>\n",
       "      <td>https://play-lh.googleusercontent.com/a/ACg8oc...</td>\n",
       "      <td>0</td>\n",
       "      <td>24.04.23</td>\n",
       "      <td>2024-05-21 05:06:05</td>\n",
       "      <td>None</td>\n",
       "      <td>None</td>\n",
       "      <td>24.04.23</td>\n",
       "      <td>5</td>\n",
       "      <td>Awe ሃረፍ nawe</td>\n",
       "      <td>None</td>\n",
       "      <td>None</td>\n",
       "      <td>None</td>\n",
       "      <td>None</td>\n",
       "    </tr>\n",
       "    <tr>\n",
       "      <th>2</th>\n",
       "      <td>55c833c8-a942-47bb-aaaa-e022f39e28af</td>\n",
       "      <td>Habtsh Darge</td>\n",
       "      <td>https://play-lh.googleusercontent.com/a/ACg8oc...</td>\n",
       "      <td>0</td>\n",
       "      <td>None</td>\n",
       "      <td>2024-05-20 08:07:49</td>\n",
       "      <td>None</td>\n",
       "      <td>None</td>\n",
       "      <td>None</td>\n",
       "      <td>1</td>\n",
       "      <td>በጣም ቀፋፊ አፕ ነው ። ሰርቶ አያውቅም ። በጣም ብዙ ችግር አለበት ከአ...</td>\n",
       "      <td>None</td>\n",
       "      <td>None</td>\n",
       "      <td>None</td>\n",
       "      <td>None</td>\n",
       "    </tr>\n",
       "    <tr>\n",
       "      <th>3</th>\n",
       "      <td>d62d6d95-2900-4038-aa26-c9b42835c971</td>\n",
       "      <td>Usman</td>\n",
       "      <td>https://play-lh.googleusercontent.com/a/ACg8oc...</td>\n",
       "      <td>0</td>\n",
       "      <td>None</td>\n",
       "      <td>2024-05-19 16:27:13</td>\n",
       "      <td>None</td>\n",
       "      <td>None</td>\n",
       "      <td>None</td>\n",
       "      <td>1</td>\n",
       "      <td>This application is very bad . Please modify t...</td>\n",
       "      <td>None</td>\n",
       "      <td>None</td>\n",
       "      <td>None</td>\n",
       "      <td>None</td>\n",
       "    </tr>\n",
       "    <tr>\n",
       "      <th>4</th>\n",
       "      <td>20c4de51-f5cd-41f3-b21a-efdf8cb4463e</td>\n",
       "      <td>Eskender Million</td>\n",
       "      <td>https://play-lh.googleusercontent.com/a-/ALV-U...</td>\n",
       "      <td>1</td>\n",
       "      <td>24.04.23</td>\n",
       "      <td>2024-05-17 20:37:40</td>\n",
       "      <td>None</td>\n",
       "      <td>None</td>\n",
       "      <td>24.04.23</td>\n",
       "      <td>1</td>\n",
       "      <td>It has a very complex, inconvenient to use, an...</td>\n",
       "      <td>None</td>\n",
       "      <td>None</td>\n",
       "      <td>None</td>\n",
       "      <td>None</td>\n",
       "    </tr>\n",
       "  </tbody>\n",
       "</table>\n",
       "</div>"
      ],
      "text/plain": [
       "                              review_id         user_name  \\\n",
       "0  738b6d3a-2d7f-4a82-bfe2-dcf32591f944    NAHOM NIGUSSIE   \n",
       "1  e20abe49-8fe7-42fe-af3a-91399875b21a     Abbatu Ermias   \n",
       "2  55c833c8-a942-47bb-aaaa-e022f39e28af      Habtsh Darge   \n",
       "3  d62d6d95-2900-4038-aa26-c9b42835c971             Usman   \n",
       "4  20c4de51-f5cd-41f3-b21a-efdf8cb4463e  Eskender Million   \n",
       "\n",
       "                                          user_image  likes  \\\n",
       "0  https://play-lh.googleusercontent.com/a-/ALV-U...      1   \n",
       "1  https://play-lh.googleusercontent.com/a/ACg8oc...      0   \n",
       "2  https://play-lh.googleusercontent.com/a/ACg8oc...      0   \n",
       "3  https://play-lh.googleusercontent.com/a/ACg8oc...      0   \n",
       "4  https://play-lh.googleusercontent.com/a-/ALV-U...      1   \n",
       "\n",
       "  review_created_version           created_at reply_content replied_at  \\\n",
       "0                   None  2024-05-21 18:38:28          None       None   \n",
       "1               24.04.23  2024-05-21 05:06:05          None       None   \n",
       "2                   None  2024-05-20 08:07:49          None       None   \n",
       "3                   None  2024-05-19 16:27:13          None       None   \n",
       "4               24.04.23  2024-05-17 20:37:40          None       None   \n",
       "\n",
       "  app_version  score                                           comments  \\\n",
       "0        None      2  Slow and buggy crashed all the time need a lot...   \n",
       "1    24.04.23      5                                       Awe ሃረፍ nawe   \n",
       "2        None      1  በጣም ቀፋፊ አፕ ነው ። ሰርቶ አያውቅም ። በጣም ብዙ ችግር አለበት ከአ...   \n",
       "3        None      1  This application is very bad . Please modify t...   \n",
       "4    24.04.23      1  It has a very complex, inconvenient to use, an...   \n",
       "\n",
       "  keywords lda_category sentiment insight  \n",
       "0     None         None      None    None  \n",
       "1     None         None      None    None  \n",
       "2     None         None      None    None  \n",
       "3     None         None      None    None  \n",
       "4     None         None      None    None  "
      ]
     },
     "execution_count": 5,
     "metadata": {},
     "output_type": "execute_result"
    }
   ],
   "source": [
    "df.head()"
   ]
  },
  {
   "cell_type": "code",
   "execution_count": 6,
   "id": "693c6fa0",
   "metadata": {},
   "outputs": [
    {
     "data": {
      "text/plain": [
       "(300, 15)"
      ]
     },
     "execution_count": 6,
     "metadata": {},
     "output_type": "execute_result"
    }
   ],
   "source": [
    "df.shape"
   ]
  },
  {
   "cell_type": "code",
   "execution_count": 7,
   "id": "a65e041f",
   "metadata": {},
   "outputs": [
    {
     "name": "stdout",
     "output_type": "stream",
     "text": [
      "<class 'pandas.core.frame.DataFrame'>\n",
      "RangeIndex: 300 entries, 0 to 299\n",
      "Data columns (total 15 columns):\n",
      " #   Column                  Non-Null Count  Dtype \n",
      "---  ------                  --------------  ----- \n",
      " 0   review_id               300 non-null    object\n",
      " 1   user_name               300 non-null    object\n",
      " 2   user_image              300 non-null    object\n",
      " 3   likes                   300 non-null    int64 \n",
      " 4   review_created_version  213 non-null    object\n",
      " 5   created_at              300 non-null    object\n",
      " 6   reply_content           0 non-null      object\n",
      " 7   replied_at              0 non-null      object\n",
      " 8   app_version             213 non-null    object\n",
      " 9   score                   300 non-null    int64 \n",
      " 10  comments                300 non-null    object\n",
      " 11  keywords                0 non-null      object\n",
      " 12  lda_category            0 non-null      object\n",
      " 13  sentiment               0 non-null      object\n",
      " 14  insight                 0 non-null      object\n",
      "dtypes: int64(2), object(13)\n",
      "memory usage: 35.3+ KB\n"
     ]
    }
   ],
   "source": [
    "df.info()"
   ]
  },
  {
   "cell_type": "code",
   "execution_count": 8,
   "id": "08d8ce99",
   "metadata": {},
   "outputs": [
    {
     "data": {
      "text/html": [
       "<div>\n",
       "<style scoped>\n",
       "    .dataframe tbody tr th:only-of-type {\n",
       "        vertical-align: middle;\n",
       "    }\n",
       "\n",
       "    .dataframe tbody tr th {\n",
       "        vertical-align: top;\n",
       "    }\n",
       "\n",
       "    .dataframe thead th {\n",
       "        text-align: right;\n",
       "    }\n",
       "</style>\n",
       "<table border=\"1\" class=\"dataframe\">\n",
       "  <thead>\n",
       "    <tr style=\"text-align: right;\">\n",
       "      <th></th>\n",
       "      <th>likes</th>\n",
       "      <th>score</th>\n",
       "    </tr>\n",
       "  </thead>\n",
       "  <tbody>\n",
       "    <tr>\n",
       "      <th>count</th>\n",
       "      <td>300.000000</td>\n",
       "      <td>300.0000</td>\n",
       "    </tr>\n",
       "    <tr>\n",
       "      <th>mean</th>\n",
       "      <td>5.000000</td>\n",
       "      <td>3.2300</td>\n",
       "    </tr>\n",
       "    <tr>\n",
       "      <th>std</th>\n",
       "      <td>34.223738</td>\n",
       "      <td>1.8225</td>\n",
       "    </tr>\n",
       "    <tr>\n",
       "      <th>min</th>\n",
       "      <td>0.000000</td>\n",
       "      <td>1.0000</td>\n",
       "    </tr>\n",
       "    <tr>\n",
       "      <th>25%</th>\n",
       "      <td>0.000000</td>\n",
       "      <td>1.0000</td>\n",
       "    </tr>\n",
       "    <tr>\n",
       "      <th>50%</th>\n",
       "      <td>1.000000</td>\n",
       "      <td>4.0000</td>\n",
       "    </tr>\n",
       "    <tr>\n",
       "      <th>75%</th>\n",
       "      <td>1.000000</td>\n",
       "      <td>5.0000</td>\n",
       "    </tr>\n",
       "    <tr>\n",
       "      <th>max</th>\n",
       "      <td>549.000000</td>\n",
       "      <td>5.0000</td>\n",
       "    </tr>\n",
       "  </tbody>\n",
       "</table>\n",
       "</div>"
      ],
      "text/plain": [
       "            likes     score\n",
       "count  300.000000  300.0000\n",
       "mean     5.000000    3.2300\n",
       "std     34.223738    1.8225\n",
       "min      0.000000    1.0000\n",
       "25%      0.000000    1.0000\n",
       "50%      1.000000    4.0000\n",
       "75%      1.000000    5.0000\n",
       "max    549.000000    5.0000"
      ]
     },
     "execution_count": 8,
     "metadata": {},
     "output_type": "execute_result"
    }
   ],
   "source": [
    "df.describe()"
   ]
  },
  {
   "cell_type": "markdown",
   "id": "22ddd0e3",
   "metadata": {},
   "source": [
    "# Missing Values"
   ]
  },
  {
   "cell_type": "code",
   "execution_count": 9,
   "id": "8016271a",
   "metadata": {},
   "outputs": [
    {
     "name": "stdout",
     "output_type": "stream",
     "text": [
      "The dataset contains 43.87 % missing values.\n"
     ]
    }
   ],
   "source": [
    "percent_missing_values(df)"
   ]
  },
  {
   "cell_type": "code",
   "execution_count": 10,
   "id": "c9d147d9",
   "metadata": {},
   "outputs": [
    {
     "data": {
      "text/plain": [
       "review_id                   0\n",
       "user_name                   0\n",
       "user_image                  0\n",
       "likes                       0\n",
       "review_created_version     87\n",
       "created_at                  0\n",
       "reply_content             300\n",
       "replied_at                300\n",
       "app_version                87\n",
       "score                       0\n",
       "comments                    0\n",
       "keywords                  300\n",
       "lda_category              300\n",
       "sentiment                 300\n",
       "insight                   300\n",
       "dtype: int64"
      ]
     },
     "execution_count": 10,
     "metadata": {},
     "output_type": "execute_result"
    }
   ],
   "source": [
    "df.isnull().sum()"
   ]
  },
  {
   "cell_type": "code",
   "execution_count": 11,
   "id": "b050c469",
   "metadata": {},
   "outputs": [
    {
     "data": {
      "text/html": [
       "<div>\n",
       "<style scoped>\n",
       "    .dataframe tbody tr th:only-of-type {\n",
       "        vertical-align: middle;\n",
       "    }\n",
       "\n",
       "    .dataframe tbody tr th {\n",
       "        vertical-align: top;\n",
       "    }\n",
       "\n",
       "    .dataframe thead th {\n",
       "        text-align: right;\n",
       "    }\n",
       "</style>\n",
       "<table border=\"1\" class=\"dataframe\">\n",
       "  <thead>\n",
       "    <tr style=\"text-align: right;\">\n",
       "      <th></th>\n",
       "      <th>review_id</th>\n",
       "      <th>user_name</th>\n",
       "      <th>user_image</th>\n",
       "      <th>likes</th>\n",
       "      <th>review_created_version</th>\n",
       "      <th>created_at</th>\n",
       "      <th>reply_content</th>\n",
       "      <th>replied_at</th>\n",
       "      <th>app_version</th>\n",
       "      <th>score</th>\n",
       "      <th>comments</th>\n",
       "      <th>keywords</th>\n",
       "      <th>lda_category</th>\n",
       "      <th>sentiment</th>\n",
       "      <th>insight</th>\n",
       "    </tr>\n",
       "  </thead>\n",
       "  <tbody>\n",
       "    <tr>\n",
       "      <th>0</th>\n",
       "      <td>738b6d3a-2d7f-4a82-bfe2-dcf32591f944</td>\n",
       "      <td>NAHOM NIGUSSIE</td>\n",
       "      <td>https://play-lh.googleusercontent.com/a-/ALV-U...</td>\n",
       "      <td>1</td>\n",
       "      <td>0</td>\n",
       "      <td>2024-05-21 18:38:28</td>\n",
       "      <td>0</td>\n",
       "      <td>0</td>\n",
       "      <td>0</td>\n",
       "      <td>2</td>\n",
       "      <td>Slow and buggy crashed all the time need a lot...</td>\n",
       "      <td>0</td>\n",
       "      <td>0</td>\n",
       "      <td>0</td>\n",
       "      <td>0</td>\n",
       "    </tr>\n",
       "    <tr>\n",
       "      <th>1</th>\n",
       "      <td>e20abe49-8fe7-42fe-af3a-91399875b21a</td>\n",
       "      <td>Abbatu Ermias</td>\n",
       "      <td>https://play-lh.googleusercontent.com/a/ACg8oc...</td>\n",
       "      <td>0</td>\n",
       "      <td>24.04.23</td>\n",
       "      <td>2024-05-21 05:06:05</td>\n",
       "      <td>0</td>\n",
       "      <td>0</td>\n",
       "      <td>24.04.23</td>\n",
       "      <td>5</td>\n",
       "      <td>Awe ሃረፍ nawe</td>\n",
       "      <td>0</td>\n",
       "      <td>0</td>\n",
       "      <td>0</td>\n",
       "      <td>0</td>\n",
       "    </tr>\n",
       "    <tr>\n",
       "      <th>2</th>\n",
       "      <td>55c833c8-a942-47bb-aaaa-e022f39e28af</td>\n",
       "      <td>Habtsh Darge</td>\n",
       "      <td>https://play-lh.googleusercontent.com/a/ACg8oc...</td>\n",
       "      <td>0</td>\n",
       "      <td>0</td>\n",
       "      <td>2024-05-20 08:07:49</td>\n",
       "      <td>0</td>\n",
       "      <td>0</td>\n",
       "      <td>0</td>\n",
       "      <td>1</td>\n",
       "      <td>በጣም ቀፋፊ አፕ ነው ። ሰርቶ አያውቅም ። በጣም ብዙ ችግር አለበት ከአ...</td>\n",
       "      <td>0</td>\n",
       "      <td>0</td>\n",
       "      <td>0</td>\n",
       "      <td>0</td>\n",
       "    </tr>\n",
       "    <tr>\n",
       "      <th>3</th>\n",
       "      <td>d62d6d95-2900-4038-aa26-c9b42835c971</td>\n",
       "      <td>Usman</td>\n",
       "      <td>https://play-lh.googleusercontent.com/a/ACg8oc...</td>\n",
       "      <td>0</td>\n",
       "      <td>0</td>\n",
       "      <td>2024-05-19 16:27:13</td>\n",
       "      <td>0</td>\n",
       "      <td>0</td>\n",
       "      <td>0</td>\n",
       "      <td>1</td>\n",
       "      <td>This application is very bad . Please modify t...</td>\n",
       "      <td>0</td>\n",
       "      <td>0</td>\n",
       "      <td>0</td>\n",
       "      <td>0</td>\n",
       "    </tr>\n",
       "    <tr>\n",
       "      <th>4</th>\n",
       "      <td>20c4de51-f5cd-41f3-b21a-efdf8cb4463e</td>\n",
       "      <td>Eskender Million</td>\n",
       "      <td>https://play-lh.googleusercontent.com/a-/ALV-U...</td>\n",
       "      <td>1</td>\n",
       "      <td>24.04.23</td>\n",
       "      <td>2024-05-17 20:37:40</td>\n",
       "      <td>0</td>\n",
       "      <td>0</td>\n",
       "      <td>24.04.23</td>\n",
       "      <td>1</td>\n",
       "      <td>It has a very complex, inconvenient to use, an...</td>\n",
       "      <td>0</td>\n",
       "      <td>0</td>\n",
       "      <td>0</td>\n",
       "      <td>0</td>\n",
       "    </tr>\n",
       "    <tr>\n",
       "      <th>...</th>\n",
       "      <td>...</td>\n",
       "      <td>...</td>\n",
       "      <td>...</td>\n",
       "      <td>...</td>\n",
       "      <td>...</td>\n",
       "      <td>...</td>\n",
       "      <td>...</td>\n",
       "      <td>...</td>\n",
       "      <td>...</td>\n",
       "      <td>...</td>\n",
       "      <td>...</td>\n",
       "      <td>...</td>\n",
       "      <td>...</td>\n",
       "      <td>...</td>\n",
       "      <td>...</td>\n",
       "    </tr>\n",
       "    <tr>\n",
       "      <th>295</th>\n",
       "      <td>43172e8d-4d87-4c97-bc6a-5c7c0ccf8faf</td>\n",
       "      <td>Sancho Alex</td>\n",
       "      <td>https://play-lh.googleusercontent.com/a-/ALV-U...</td>\n",
       "      <td>0</td>\n",
       "      <td>23.07.24</td>\n",
       "      <td>2024-02-21 12:20:09</td>\n",
       "      <td>0</td>\n",
       "      <td>0</td>\n",
       "      <td>23.07.24</td>\n",
       "      <td>5</td>\n",
       "      <td>ስለ አፖሎ የተሻ ማወቅ እፈልጋለሁ ፍቃደኛ ከሆናቹህ</td>\n",
       "      <td>0</td>\n",
       "      <td>0</td>\n",
       "      <td>0</td>\n",
       "      <td>0</td>\n",
       "    </tr>\n",
       "    <tr>\n",
       "      <th>296</th>\n",
       "      <td>8c4a815b-d937-430d-b67f-d2a2c0e8ef28</td>\n",
       "      <td>Mebratu Gebreselassie</td>\n",
       "      <td>https://play-lh.googleusercontent.com/a/ACg8oc...</td>\n",
       "      <td>0</td>\n",
       "      <td>24.02.14</td>\n",
       "      <td>2024-02-21 04:16:55</td>\n",
       "      <td>0</td>\n",
       "      <td>0</td>\n",
       "      <td>24.02.14</td>\n",
       "      <td>5</td>\n",
       "      <td>Nice app</td>\n",
       "      <td>0</td>\n",
       "      <td>0</td>\n",
       "      <td>0</td>\n",
       "      <td>0</td>\n",
       "    </tr>\n",
       "    <tr>\n",
       "      <th>297</th>\n",
       "      <td>a8a3e3df-9345-4057-ae96-dc2eabc2e6a8</td>\n",
       "      <td>Muhammed Ebre</td>\n",
       "      <td>https://play-lh.googleusercontent.com/a/ACg8oc...</td>\n",
       "      <td>1</td>\n",
       "      <td>24.02.09</td>\n",
       "      <td>2024-02-20 19:53:19</td>\n",
       "      <td>0</td>\n",
       "      <td>0</td>\n",
       "      <td>24.02.09</td>\n",
       "      <td>4</td>\n",
       "      <td>👩‍🎓👩‍🎓👩‍🎓👩‍🎓👩‍🎓👩‍🎓👨‍🏫👨‍🏫👨‍🏫👨‍🏫👩‍🏫🐄🦈🐔🐔🐔🐴 🌄Good ...</td>\n",
       "      <td>0</td>\n",
       "      <td>0</td>\n",
       "      <td>0</td>\n",
       "      <td>0</td>\n",
       "    </tr>\n",
       "    <tr>\n",
       "      <th>298</th>\n",
       "      <td>ddfa3f72-c61d-4792-8185-3b9e9a1eebd6</td>\n",
       "      <td>Lul Chuol tut</td>\n",
       "      <td>https://play-lh.googleusercontent.com/a-/ALV-U...</td>\n",
       "      <td>0</td>\n",
       "      <td>0</td>\n",
       "      <td>2024-02-20 15:32:10</td>\n",
       "      <td>0</td>\n",
       "      <td>0</td>\n",
       "      <td>0</td>\n",
       "      <td>5</td>\n",
       "      <td>Great 👍</td>\n",
       "      <td>0</td>\n",
       "      <td>0</td>\n",
       "      <td>0</td>\n",
       "      <td>0</td>\n",
       "    </tr>\n",
       "    <tr>\n",
       "      <th>299</th>\n",
       "      <td>99f4aced-0118-49fd-9004-d52fe34f1722</td>\n",
       "      <td>Teleste Guesh</td>\n",
       "      <td>https://play-lh.googleusercontent.com/a/ACg8oc...</td>\n",
       "      <td>0</td>\n",
       "      <td>0</td>\n",
       "      <td>2024-02-20 11:46:07</td>\n",
       "      <td>0</td>\n",
       "      <td>0</td>\n",
       "      <td>0</td>\n",
       "      <td>5</td>\n",
       "      <td>Waww</td>\n",
       "      <td>0</td>\n",
       "      <td>0</td>\n",
       "      <td>0</td>\n",
       "      <td>0</td>\n",
       "    </tr>\n",
       "  </tbody>\n",
       "</table>\n",
       "<p>300 rows × 15 columns</p>\n",
       "</div>"
      ],
      "text/plain": [
       "                                review_id              user_name  \\\n",
       "0    738b6d3a-2d7f-4a82-bfe2-dcf32591f944         NAHOM NIGUSSIE   \n",
       "1    e20abe49-8fe7-42fe-af3a-91399875b21a          Abbatu Ermias   \n",
       "2    55c833c8-a942-47bb-aaaa-e022f39e28af           Habtsh Darge   \n",
       "3    d62d6d95-2900-4038-aa26-c9b42835c971                  Usman   \n",
       "4    20c4de51-f5cd-41f3-b21a-efdf8cb4463e       Eskender Million   \n",
       "..                                    ...                    ...   \n",
       "295  43172e8d-4d87-4c97-bc6a-5c7c0ccf8faf            Sancho Alex   \n",
       "296  8c4a815b-d937-430d-b67f-d2a2c0e8ef28  Mebratu Gebreselassie   \n",
       "297  a8a3e3df-9345-4057-ae96-dc2eabc2e6a8          Muhammed Ebre   \n",
       "298  ddfa3f72-c61d-4792-8185-3b9e9a1eebd6          Lul Chuol tut   \n",
       "299  99f4aced-0118-49fd-9004-d52fe34f1722          Teleste Guesh   \n",
       "\n",
       "                                            user_image  likes  \\\n",
       "0    https://play-lh.googleusercontent.com/a-/ALV-U...      1   \n",
       "1    https://play-lh.googleusercontent.com/a/ACg8oc...      0   \n",
       "2    https://play-lh.googleusercontent.com/a/ACg8oc...      0   \n",
       "3    https://play-lh.googleusercontent.com/a/ACg8oc...      0   \n",
       "4    https://play-lh.googleusercontent.com/a-/ALV-U...      1   \n",
       "..                                                 ...    ...   \n",
       "295  https://play-lh.googleusercontent.com/a-/ALV-U...      0   \n",
       "296  https://play-lh.googleusercontent.com/a/ACg8oc...      0   \n",
       "297  https://play-lh.googleusercontent.com/a/ACg8oc...      1   \n",
       "298  https://play-lh.googleusercontent.com/a-/ALV-U...      0   \n",
       "299  https://play-lh.googleusercontent.com/a/ACg8oc...      0   \n",
       "\n",
       "    review_created_version           created_at  reply_content  replied_at  \\\n",
       "0                        0  2024-05-21 18:38:28              0           0   \n",
       "1                 24.04.23  2024-05-21 05:06:05              0           0   \n",
       "2                        0  2024-05-20 08:07:49              0           0   \n",
       "3                        0  2024-05-19 16:27:13              0           0   \n",
       "4                 24.04.23  2024-05-17 20:37:40              0           0   \n",
       "..                     ...                  ...            ...         ...   \n",
       "295               23.07.24  2024-02-21 12:20:09              0           0   \n",
       "296               24.02.14  2024-02-21 04:16:55              0           0   \n",
       "297               24.02.09  2024-02-20 19:53:19              0           0   \n",
       "298                      0  2024-02-20 15:32:10              0           0   \n",
       "299                      0  2024-02-20 11:46:07              0           0   \n",
       "\n",
       "    app_version  score                                           comments  \\\n",
       "0             0      2  Slow and buggy crashed all the time need a lot...   \n",
       "1      24.04.23      5                                       Awe ሃረፍ nawe   \n",
       "2             0      1  በጣም ቀፋፊ አፕ ነው ። ሰርቶ አያውቅም ። በጣም ብዙ ችግር አለበት ከአ...   \n",
       "3             0      1  This application is very bad . Please modify t...   \n",
       "4      24.04.23      1  It has a very complex, inconvenient to use, an...   \n",
       "..          ...    ...                                                ...   \n",
       "295    23.07.24      5                   ስለ አፖሎ የተሻ ማወቅ እፈልጋለሁ ፍቃደኛ ከሆናቹህ   \n",
       "296    24.02.14      5                                           Nice app   \n",
       "297    24.02.09      4  👩‍🎓👩‍🎓👩‍🎓👩‍🎓👩‍🎓👩‍🎓👨‍🏫👨‍🏫👨‍🏫👨‍🏫👩‍🏫🐄🦈🐔🐔🐔🐴 🌄Good ...   \n",
       "298           0      5                                            Great 👍   \n",
       "299           0      5                                               Waww   \n",
       "\n",
       "     keywords  lda_category  sentiment  insight  \n",
       "0           0             0          0        0  \n",
       "1           0             0          0        0  \n",
       "2           0             0          0        0  \n",
       "3           0             0          0        0  \n",
       "4           0             0          0        0  \n",
       "..        ...           ...        ...      ...  \n",
       "295         0             0          0        0  \n",
       "296         0             0          0        0  \n",
       "297         0             0          0        0  \n",
       "298         0             0          0        0  \n",
       "299         0             0          0        0  \n",
       "\n",
       "[300 rows x 15 columns]"
      ]
     },
     "execution_count": 11,
     "metadata": {},
     "output_type": "execute_result"
    }
   ],
   "source": [
    "df = df.fillna(value = 0)\n",
    "df"
   ]
  },
  {
   "cell_type": "code",
   "execution_count": 12,
   "id": "b0638cb3",
   "metadata": {},
   "outputs": [
    {
     "name": "stdout",
     "output_type": "stream",
     "text": [
      "The dataset contains 0.0 % missing values.\n"
     ]
    }
   ],
   "source": [
    "percent_missing_values(df)"
   ]
  },
  {
   "cell_type": "markdown",
   "id": "491820e8",
   "metadata": {},
   "source": [
    "# Univariate Analysis"
   ]
  },
  {
   "cell_type": "code",
   "execution_count": 13,
   "id": "b8743c81",
   "metadata": {},
   "outputs": [
    {
     "data": {
      "text/plain": [
       "299"
      ]
     },
     "execution_count": 13,
     "metadata": {},
     "output_type": "execute_result"
    }
   ],
   "source": [
    "unique_counts = df['user_name'].nunique()\n",
    "unique_counts"
   ]
  },
  {
   "cell_type": "code",
   "execution_count": 14,
   "id": "b1347f92",
   "metadata": {},
   "outputs": [
    {
     "data": {
      "text/plain": [
       "15"
      ]
     },
     "execution_count": 14,
     "metadata": {},
     "output_type": "execute_result"
    }
   ],
   "source": [
    "unique_counts = df['review_created_version'].nunique()\n",
    "unique_counts"
   ]
  },
  {
   "cell_type": "code",
   "execution_count": 15,
   "id": "a1a371dd",
   "metadata": {},
   "outputs": [
    {
     "data": {
      "text/plain": [
       "15"
      ]
     },
     "execution_count": 15,
     "metadata": {},
     "output_type": "execute_result"
    }
   ],
   "source": [
    "unique_counts = df['app_version'].nunique()\n",
    "unique_counts"
   ]
  },
  {
   "cell_type": "code",
   "execution_count": 16,
   "id": "a935d097",
   "metadata": {},
   "outputs": [
    {
     "data": {
      "text/plain": [
       "5"
      ]
     },
     "execution_count": 16,
     "metadata": {},
     "output_type": "execute_result"
    }
   ],
   "source": [
    "unique_counts = df['score'].nunique()\n",
    "unique_counts"
   ]
  },
  {
   "cell_type": "markdown",
   "id": "299b823b",
   "metadata": {},
   "source": [
    "# Experiment"
   ]
  },
  {
   "cell_type": "code",
   "execution_count": 20,
   "id": "d4db8e0c",
   "metadata": {},
   "outputs": [
    {
     "data": {
      "text/plain": [
       "score\n",
       "5    136\n",
       "1    105\n",
       "4     26\n",
       "2     19\n",
       "3     14\n",
       "Name: count, dtype: int64"
      ]
     },
     "execution_count": 20,
     "metadata": {},
     "output_type": "execute_result"
    }
   ],
   "source": [
    "counts_df = df['score'].value_counts()\n",
    "counts_df"
   ]
  },
  {
   "cell_type": "code",
   "execution_count": 28,
   "id": "8d317f9e",
   "metadata": {},
   "outputs": [
    {
     "data": {
      "text/plain": [
       "review_created_version\n",
       "24.03.04    132\n",
       "0            87\n",
       "24.04.23     34\n",
       "24.02.14     25\n",
       "23.12.29      5\n",
       "24.01.17      5\n",
       "23.10.24      3\n",
       "23.07.24      2\n",
       "23.08.03      1\n",
       "23.12.09      1\n",
       "23.07.08      1\n",
       "22.10.27      1\n",
       "23.06.17      1\n",
       "23.12.18      1\n",
       "24.02.09      1\n",
       "Name: count, dtype: int64"
      ]
     },
     "execution_count": 28,
     "metadata": {},
     "output_type": "execute_result"
    }
   ],
   "source": [
    "counts_df = df['review_created_version'].value_counts()\n",
    "counts_df"
   ]
  },
  {
   "cell_type": "code",
   "execution_count": 31,
   "id": "c8816f98",
   "metadata": {},
   "outputs": [
    {
     "data": {
      "image/png": "[encoded data removed]",
      "text/plain": [
       "<Figure size 1200x600 with 1 Axes>"
      ]
     },
     "metadata": {},
     "output_type": "display_data"
    }
   ],
   "source": [
    "plt.figure(figsize=(12, 6))\n",
    "plt.title('Unique value counts of review_created_version')\n",
    "sns.countplot(data=df, x='review_created_version')\n",
    "plt.xticks(rotation=45)\n",
    "plt.show()"
   ]
  },
  {
   "cell_type": "code",
   "execution_count": 22,
   "id": "04213483",
   "metadata": {},
   "outputs": [
    {
     "data": {
      "image/png": "[encoded data removed]",
      "text/plain": [
       "<Figure size 1200x600 with 1 Axes>"
      ]
     },
     "metadata": {},
     "output_type": "display_data"
    }
   ],
   "source": [
    "plt.figure(figsize=(12, 6))\n",
    "plt.title('Unique value counts of score')\n",
    "sns.countplot(data=df, x='score')\n",
    "plt.show()"
   ]
  },
  {
   "cell_type": "markdown",
   "id": "301a783a",
   "metadata": {},
   "source": [
    "# Outliers"
   ]
  },
  {
   "cell_type": "code",
   "execution_count": 23,
   "id": "98f92d5d",
   "metadata": {},
   "outputs": [
    {
     "data": {
      "text/html": [
       "<div>\n",
       "<style scoped>\n",
       "    .dataframe tbody tr th:only-of-type {\n",
       "        vertical-align: middle;\n",
       "    }\n",
       "\n",
       "    .dataframe tbody tr th {\n",
       "        vertical-align: top;\n",
       "    }\n",
       "\n",
       "    .dataframe thead th {\n",
       "        text-align: right;\n",
       "    }\n",
       "</style>\n",
       "<table border=\"1\" class=\"dataframe\">\n",
       "  <thead>\n",
       "    <tr style=\"text-align: right;\">\n",
       "      <th></th>\n",
       "      <th>review_id</th>\n",
       "      <th>user_name</th>\n",
       "      <th>user_image</th>\n",
       "      <th>likes</th>\n",
       "      <th>review_created_version</th>\n",
       "      <th>created_at</th>\n",
       "      <th>app_version</th>\n",
       "      <th>score</th>\n",
       "      <th>comments</th>\n",
       "    </tr>\n",
       "  </thead>\n",
       "  <tbody>\n",
       "    <tr>\n",
       "      <th>0</th>\n",
       "      <td>738b6d3a-2d7f-4a82-bfe2-dcf32591f944</td>\n",
       "      <td>NAHOM NIGUSSIE</td>\n",
       "      <td>https://play-lh.googleusercontent.com/a-/ALV-U...</td>\n",
       "      <td>1</td>\n",
       "      <td>0</td>\n",
       "      <td>2024-05-21 18:38:28</td>\n",
       "      <td>0</td>\n",
       "      <td>2</td>\n",
       "      <td>Slow and buggy crashed all the time need a lot...</td>\n",
       "    </tr>\n",
       "    <tr>\n",
       "      <th>1</th>\n",
       "      <td>e20abe49-8fe7-42fe-af3a-91399875b21a</td>\n",
       "      <td>Abbatu Ermias</td>\n",
       "      <td>https://play-lh.googleusercontent.com/a/ACg8oc...</td>\n",
       "      <td>0</td>\n",
       "      <td>24.04.23</td>\n",
       "      <td>2024-05-21 05:06:05</td>\n",
       "      <td>24.04.23</td>\n",
       "      <td>5</td>\n",
       "      <td>Awe ሃረፍ nawe</td>\n",
       "    </tr>\n",
       "    <tr>\n",
       "      <th>2</th>\n",
       "      <td>55c833c8-a942-47bb-aaaa-e022f39e28af</td>\n",
       "      <td>Habtsh Darge</td>\n",
       "      <td>https://play-lh.googleusercontent.com/a/ACg8oc...</td>\n",
       "      <td>0</td>\n",
       "      <td>0</td>\n",
       "      <td>2024-05-20 08:07:49</td>\n",
       "      <td>0</td>\n",
       "      <td>1</td>\n",
       "      <td>በጣም ቀፋፊ አፕ ነው ። ሰርቶ አያውቅም ። በጣም ብዙ ችግር አለበት ከአ...</td>\n",
       "    </tr>\n",
       "    <tr>\n",
       "      <th>3</th>\n",
       "      <td>d62d6d95-2900-4038-aa26-c9b42835c971</td>\n",
       "      <td>Usman</td>\n",
       "      <td>https://play-lh.googleusercontent.com/a/ACg8oc...</td>\n",
       "      <td>0</td>\n",
       "      <td>0</td>\n",
       "      <td>2024-05-19 16:27:13</td>\n",
       "      <td>0</td>\n",
       "      <td>1</td>\n",
       "      <td>This application is very bad . Please modify t...</td>\n",
       "    </tr>\n",
       "    <tr>\n",
       "      <th>4</th>\n",
       "      <td>20c4de51-f5cd-41f3-b21a-efdf8cb4463e</td>\n",
       "      <td>Eskender Million</td>\n",
       "      <td>https://play-lh.googleusercontent.com/a-/ALV-U...</td>\n",
       "      <td>1</td>\n",
       "      <td>24.04.23</td>\n",
       "      <td>2024-05-17 20:37:40</td>\n",
       "      <td>24.04.23</td>\n",
       "      <td>1</td>\n",
       "      <td>It has a very complex, inconvenient to use, an...</td>\n",
       "    </tr>\n",
       "  </tbody>\n",
       "</table>\n",
       "</div>"
      ],
      "text/plain": [
       "                              review_id         user_name  \\\n",
       "0  738b6d3a-2d7f-4a82-bfe2-dcf32591f944    NAHOM NIGUSSIE   \n",
       "1  e20abe49-8fe7-42fe-af3a-91399875b21a     Abbatu Ermias   \n",
       "2  55c833c8-a942-47bb-aaaa-e022f39e28af      Habtsh Darge   \n",
       "3  d62d6d95-2900-4038-aa26-c9b42835c971             Usman   \n",
       "4  20c4de51-f5cd-41f3-b21a-efdf8cb4463e  Eskender Million   \n",
       "\n",
       "                                          user_image  likes  \\\n",
       "0  https://play-lh.googleusercontent.com/a-/ALV-U...      1   \n",
       "1  https://play-lh.googleusercontent.com/a/ACg8oc...      0   \n",
       "2  https://play-lh.googleusercontent.com/a/ACg8oc...      0   \n",
       "3  https://play-lh.googleusercontent.com/a/ACg8oc...      0   \n",
       "4  https://play-lh.googleusercontent.com/a-/ALV-U...      1   \n",
       "\n",
       "  review_created_version           created_at app_version  score  \\\n",
       "0                      0  2024-05-21 18:38:28           0      2   \n",
       "1               24.04.23  2024-05-21 05:06:05    24.04.23      5   \n",
       "2                      0  2024-05-20 08:07:49           0      1   \n",
       "3                      0  2024-05-19 16:27:13           0      1   \n",
       "4               24.04.23  2024-05-17 20:37:40    24.04.23      1   \n",
       "\n",
       "                                            comments  \n",
       "0  Slow and buggy crashed all the time need a lot...  \n",
       "1                                       Awe ሃረፍ nawe  \n",
       "2  በጣም ቀፋፊ አፕ ነው ። ሰርቶ አያውቅም ። በጣም ብዙ ችግር አለበት ከአ...  \n",
       "3  This application is very bad . Please modify t...  \n",
       "4  It has a very complex, inconvenient to use, an...  "
      ]
     },
     "execution_count": 23,
     "metadata": {},
     "output_type": "execute_result"
    }
   ],
   "source": [
    "user_engagement_df = df[['review_id', 'user_name', 'user_image', 'likes','review_created_version','created_at','app_version','score','comments']]\n",
    "user_engagement_df.head()"
   ]
  },
  {
   "cell_type": "code",
   "execution_count": 24,
   "id": "e5ef1e72",
   "metadata": {},
   "outputs": [],
   "source": [
    "outlier_handler = OutlierHandler(user_engagement_df)"
   ]
  },
  {
   "cell_type": "code",
   "execution_count": 25,
   "id": "fcbca3da",
   "metadata": {},
   "outputs": [
    {
     "data": {
      "text/plain": [
       "<Axes: >"
      ]
     },
     "execution_count": 25,
     "metadata": {},
     "output_type": "execute_result"
    },
    {
     "data": {
      "image/png": "[encoded data removed]",
      "text/plain": [
       "<Figure size 640x480 with 1 Axes>"
      ]
     },
     "metadata": {},
     "output_type": "display_data"
    }
   ],
   "source": [
    "user_engagement_df.boxplot()"
   ]
  }
 ],
 "metadata": {
  "kernelspec": {
   "display_name": "Python 3 (ipykernel)",
   "language": "python",
   "name": "python3"
  },
  "language_info": {
   "codemirror_mode": {
    "name": "ipython",
    "version": 3
   },
   "file_extension": ".py",
   "mimetype": "text/x-python",
   "name": "python",
   "nbconvert_exporter": "python",
   "pygments_lexer": "ipython3",
   "version": "3.11.7"
  }
 },
 "nbformat": 4,
 "nbformat_minor": 5
}
