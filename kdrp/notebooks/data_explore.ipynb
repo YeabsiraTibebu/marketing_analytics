{
 "cells": [
  {
   "cell_type": "code",
   "execution_count": 2,
   "id": "b9aceb7d",
   "metadata": {},
   "outputs": [
    {
     "name": "stdout",
     "output_type": "stream",
     "text": [
      "Collecting kedro\n",
      "  Using cached kedro-0.19.5-py3-none-any.whl.metadata (13 kB)\n",
      "Requirement already satisfied: attrs>=21.3 in c:\\users\\hp\\anaconda3\\lib\\site-packages (from kedro) (23.1.0)\n",
      "Collecting build>=0.7.0 (from kedro)\n",
      "  Using cached build-1.2.1-py3-none-any.whl.metadata (4.3 kB)\n",
      "Requirement already satisfied: cachetools>=4.1 in c:\\users\\hp\\anaconda3\\lib\\site-packages (from kedro) (4.2.2)\n",
      "Requirement already satisfied: click>=4.0 in c:\\users\\hp\\anaconda3\\lib\\site-packages (from kedro) (8.1.7)\n",
      "Requirement already satisfied: cookiecutter<3.0,>=2.1.1 in c:\\users\\hp\\anaconda3\\lib\\site-packages (from kedro) (2.5.0)\n",
      "Collecting dynaconf<4.0,>=3.1.2 (from kedro)\n",
      "  Using cached dynaconf-3.2.5-py2.py3-none-any.whl.metadata (9.1 kB)\n",
      "Requirement already satisfied: fsspec>=2021.4 in c:\\users\\hp\\anaconda3\\lib\\site-packages (from kedro) (2023.10.0)\n",
      "Requirement already satisfied: gitpython>=3.0 in c:\\users\\hp\\anaconda3\\lib\\site-packages (from kedro) (3.1.37)\n",
      "Collecting importlib-resources<7.0,>=1.3 (from kedro)\n",
      "  Using cached importlib_resources-6.4.0-py3-none-any.whl.metadata (3.9 kB)\n",
      "Requirement already satisfied: more-itertools>=8.14.0 in c:\\users\\hp\\anaconda3\\lib\\site-packages (from kedro) (10.1.0)\n",
      "Collecting omegaconf>=2.1.1 (from kedro)\n",
      "  Using cached omegaconf-2.3.0-py3-none-any.whl.metadata (3.9 kB)\n",
      "Collecting parse>=1.19.0 (from kedro)\n",
      "  Using cached parse-1.20.1-py2.py3-none-any.whl.metadata (22 kB)\n",
      "Requirement already satisfied: pluggy<1.4.0,>=1.0 in c:\\users\\hp\\anaconda3\\lib\\site-packages (from kedro) (1.0.0)\n",
      "Collecting pre-commit-hooks (from kedro)\n",
      "  Using cached pre_commit_hooks-4.6.0-py2.py3-none-any.whl.metadata (10 kB)\n",
      "Requirement already satisfied: PyYAML<7.0,>=4.2 in c:\\users\\hp\\anaconda3\\lib\\site-packages (from kedro) (6.0.1)\n",
      "Requirement already satisfied: rich<14.0,>=12.0 in c:\\users\\hp\\anaconda3\\lib\\site-packages (from kedro) (13.3.5)\n",
      "Requirement already satisfied: rope<2.0,>=0.21 in c:\\users\\hp\\anaconda3\\lib\\site-packages (from kedro) (1.7.0)\n",
      "Requirement already satisfied: toml>=0.10.0 in c:\\users\\hp\\anaconda3\\lib\\site-packages (from kedro) (0.10.2)\n",
      "Requirement already satisfied: importlib-metadata<8.0,>=3.6 in c:\\users\\hp\\anaconda3\\lib\\site-packages (from kedro) (7.0.1)\n",
      "Requirement already satisfied: packaging>=19.1 in c:\\users\\hp\\anaconda3\\lib\\site-packages (from build>=0.7.0->kedro) (23.1)\n",
      "Collecting pyproject_hooks (from build>=0.7.0->kedro)\n",
      "  Using cached pyproject_hooks-1.1.0-py3-none-any.whl.metadata (1.3 kB)\n",
      "Requirement already satisfied: colorama in c:\\users\\hp\\anaconda3\\lib\\site-packages (from build>=0.7.0->kedro) (0.4.6)\n",
      "Requirement already satisfied: binaryornot>=0.4.4 in c:\\users\\hp\\anaconda3\\lib\\site-packages (from cookiecutter<3.0,>=2.1.1->kedro) (0.4.4)\n",
      "Requirement already satisfied: Jinja2<4.0.0,>=2.7 in c:\\users\\hp\\anaconda3\\lib\\site-packages (from cookiecutter<3.0,>=2.1.1->kedro) (3.1.3)\n",
      "Requirement already satisfied: python-slugify>=4.0.0 in c:\\users\\hp\\anaconda3\\lib\\site-packages (from cookiecutter<3.0,>=2.1.1->kedro) (5.0.2)\n",
      "Requirement already satisfied: requests>=2.23.0 in c:\\users\\hp\\anaconda3\\lib\\site-packages (from cookiecutter<3.0,>=2.1.1->kedro) (2.31.0)\n",
      "Requirement already satisfied: arrow in c:\\users\\hp\\anaconda3\\lib\\site-packages (from cookiecutter<3.0,>=2.1.1->kedro) (1.2.3)\n",
      "Requirement already satisfied: gitdb<5,>=4.0.1 in c:\\users\\hp\\anaconda3\\lib\\site-packages (from gitpython>=3.0->kedro) (4.0.7)\n",
      "Requirement already satisfied: zipp>=0.5 in c:\\users\\hp\\anaconda3\\lib\\site-packages (from importlib-metadata<8.0,>=3.6->kedro) (3.17.0)\n",
      "Collecting antlr4-python3-runtime==4.9.* (from omegaconf>=2.1.1->kedro)\n",
      "  Using cached antlr4-python3-runtime-4.9.3.tar.gz (117 kB)\n",
      "  Preparing metadata (setup.py): started\n",
      "  Preparing metadata (setup.py): finished with status 'done'\n",
      "Requirement already satisfied: markdown-it-py<3.0.0,>=2.2.0 in c:\\users\\hp\\anaconda3\\lib\\site-packages (from rich<14.0,>=12.0->kedro) (2.2.0)\n",
      "Requirement already satisfied: pygments<3.0.0,>=2.13.0 in c:\\users\\hp\\anaconda3\\lib\\site-packages (from rich<14.0,>=12.0->kedro) (2.15.1)\n",
      "Requirement already satisfied: pytoolconfig>=1.2.2 in c:\\users\\hp\\anaconda3\\lib\\site-packages (from pytoolconfig[global]>=1.2.2->rope<2.0,>=0.21->kedro) (1.2.6)\n",
      "Requirement already satisfied: ruamel.yaml>=0.15 in c:\\users\\hp\\anaconda3\\lib\\site-packages (from pre-commit-hooks->kedro) (0.17.21)\n",
      "Requirement already satisfied: chardet>=3.0.2 in c:\\users\\hp\\anaconda3\\lib\\site-packages (from binaryornot>=0.4.4->cookiecutter<3.0,>=2.1.1->kedro) (4.0.0)\n",
      "Requirement already satisfied: smmap<5,>=3.0.1 in c:\\users\\hp\\anaconda3\\lib\\site-packages (from gitdb<5,>=4.0.1->gitpython>=3.0->kedro) (4.0.0)\n",
      "Requirement already satisfied: MarkupSafe>=2.0 in c:\\users\\hp\\anaconda3\\lib\\site-packages (from Jinja2<4.0.0,>=2.7->cookiecutter<3.0,>=2.1.1->kedro) (2.1.3)\n",
      "Requirement already satisfied: mdurl~=0.1 in c:\\users\\hp\\anaconda3\\lib\\site-packages (from markdown-it-py<3.0.0,>=2.2.0->rich<14.0,>=12.0->kedro) (0.1.0)\n",
      "Requirement already satisfied: text-unidecode>=1.3 in c:\\users\\hp\\anaconda3\\lib\\site-packages (from python-slugify>=4.0.0->cookiecutter<3.0,>=2.1.1->kedro) (1.3)\n",
      "Requirement already satisfied: platformdirs>=1.4.4 in c:\\users\\hp\\anaconda3\\lib\\site-packages (from pytoolconfig[global]>=1.2.2->rope<2.0,>=0.21->kedro) (3.10.0)\n",
      "Requirement already satisfied: charset-normalizer<4,>=2 in c:\\users\\hp\\anaconda3\\lib\\site-packages (from requests>=2.23.0->cookiecutter<3.0,>=2.1.1->kedro) (2.0.4)\n",
      "Requirement already satisfied: idna<4,>=2.5 in c:\\users\\hp\\anaconda3\\lib\\site-packages (from requests>=2.23.0->cookiecutter<3.0,>=2.1.1->kedro) (3.4)\n",
      "Requirement already satisfied: urllib3<3,>=1.21.1 in c:\\users\\hp\\anaconda3\\lib\\site-packages (from requests>=2.23.0->cookiecutter<3.0,>=2.1.1->kedro) (2.0.7)\n",
      "Requirement already satisfied: certifi>=2017.4.17 in c:\\users\\hp\\anaconda3\\lib\\site-packages (from requests>=2.23.0->cookiecutter<3.0,>=2.1.1->kedro) (2024.2.2)\n",
      "Requirement already satisfied: python-dateutil>=2.7.0 in c:\\users\\hp\\anaconda3\\lib\\site-packages (from arrow->cookiecutter<3.0,>=2.1.1->kedro) (2.8.2)\n",
      "Requirement already satisfied: six>=1.5 in c:\\users\\hp\\anaconda3\\lib\\site-packages (from python-dateutil>=2.7.0->arrow->cookiecutter<3.0,>=2.1.1->kedro) (1.16.0)\n",
      "Using cached kedro-0.19.5-py3-none-any.whl (168 kB)\n",
      "Using cached build-1.2.1-py3-none-any.whl (21 kB)\n",
      "Using cached dynaconf-3.2.5-py2.py3-none-any.whl (230 kB)\n",
      "Using cached importlib_resources-6.4.0-py3-none-any.whl (38 kB)\n",
      "Using cached omegaconf-2.3.0-py3-none-any.whl (79 kB)\n",
      "Using cached parse-1.20.1-py2.py3-none-any.whl (20 kB)\n",
      "Using cached pre_commit_hooks-4.6.0-py2.py3-none-any.whl (41 kB)\n",
      "Using cached pyproject_hooks-1.1.0-py3-none-any.whl (9.2 kB)\n",
      "Building wheels for collected packages: antlr4-python3-runtime\n",
      "  Building wheel for antlr4-python3-runtime (setup.py): started\n",
      "  Building wheel for antlr4-python3-runtime (setup.py): finished with status 'done'\n",
      "  Created wheel for antlr4-python3-runtime: filename=antlr4_python3_runtime-4.9.3-py3-none-any.whl size=144578 sha256=e28e971d9a4046dd854d2cad4e4569c7b965dc3c5a14217e1689138321479588\n",
      "  Stored in directory: c:\\users\\hp\\appdata\\local\\pip\\cache\\wheels\\1a\\97\\32\\461f837398029ad76911109f07047fde1d7b661a147c7c56d1\n",
      "Successfully built antlr4-python3-runtime\n",
      "Installing collected packages: parse, antlr4-python3-runtime, pyproject_hooks, pre-commit-hooks, omegaconf, importlib-resources, dynaconf, build, kedro\n",
      "Successfully installed antlr4-python3-runtime-4.9.3 build-1.2.1 dynaconf-3.2.5 importlib-resources-6.4.0 kedro-0.19.5 omegaconf-2.3.0 parse-1.20.1 pre-commit-hooks-4.6.0 pyproject_hooks-1.1.0\n",
      "Note: you may need to restart the kernel to use updated packages.\n"
     ]
    }
   ],
   "source": [
    "%pip install kedro"
   ]
  },
  {
   "cell_type": "code",
   "execution_count": 12,
   "id": "deaf5759",
   "metadata": {},
   "outputs": [
    {
     "name": "stdout",
     "output_type": "stream",
     "text": [
      "The kedro.ipython extension is already loaded. To reload it, use:\n",
      "  %reload_ext kedro.ipython\n"
     ]
    }
   ],
   "source": [
    "%load_ext kedro.ipython"
   ]
  },
  {
   "cell_type": "code",
   "execution_count": 13,
   "id": "95908305",
   "metadata": {},
   "outputs": [
    {
     "data": {
      "text/plain": [
       "<kedro.io.data_catalog.DataCatalog at 0x1f5a05412d0>"
      ]
     },
     "execution_count": 13,
     "metadata": {},
     "output_type": "execute_result"
    }
   ],
   "source": [
    "catalog"
   ]
  },
  {
   "cell_type": "code",
   "execution_count": 14,
   "id": "c8c1c914",
   "metadata": {},
   "outputs": [
    {
     "data": {
      "text/html": [
       "<pre style=\"white-space:pre;overflow-x:auto;line-height:normal;font-family:Menlo,'DejaVu Sans Mono',consolas,'Courier New',monospace\"><span style=\"color: #800000; text-decoration-color: #800000\">╭─────────────────────────────── </span><span style=\"color: #800000; text-decoration-color: #800000; font-weight: bold\">Traceback </span><span style=\"color: #bf7f7f; text-decoration-color: #bf7f7f; font-weight: bold\">(most recent call last)</span><span style=\"color: #800000; text-decoration-color: #800000\"> ────────────────────────────────╮</span>\n",
       "<span style=\"color: #800000; text-decoration-color: #800000\">│</span> in <span style=\"color: #00ff00; text-decoration-color: #00ff00\">&lt;module&gt;</span>:<span style=\"color: #0000ff; text-decoration-color: #0000ff\">1</span>                                                                                    <span style=\"color: #800000; text-decoration-color: #800000\">│</span>\n",
       "<span style=\"color: #800000; text-decoration-color: #800000\">│</span>                                                                                                  <span style=\"color: #800000; text-decoration-color: #800000\">│</span>\n",
       "<span style=\"color: #800000; text-decoration-color: #800000\">│</span> <span style=\"color: #800000; text-decoration-color: #800000\">❱ </span>1 catalog.load(<span style=\"color: #808000; text-decoration-color: #808000\">\"raw_data\"</span>)                                                                     <span style=\"color: #800000; text-decoration-color: #800000\">│</span>\n",
       "<span style=\"color: #800000; text-decoration-color: #800000\">│</span>   <span style=\"color: #7f7f7f; text-decoration-color: #7f7f7f\">2 </span>                                                                                             <span style=\"color: #800000; text-decoration-color: #800000\">│</span>\n",
       "<span style=\"color: #800000; text-decoration-color: #800000\">│</span>                                                                                                  <span style=\"color: #800000; text-decoration-color: #800000\">│</span>\n",
       "<span style=\"color: #800000; text-decoration-color: #800000\">│</span> <span style=\"color: #808000; text-decoration-color: #808000\">C:\\Users\\hp\\anaconda3\\Lib\\site-packages\\kedro\\io\\data_catalog.py</span>:<span style=\"color: #0000ff; text-decoration-color: #0000ff\">481</span> in <span style=\"color: #00ff00; text-decoration-color: #00ff00\">load</span>                     <span style=\"color: #800000; text-decoration-color: #800000\">│</span>\n",
       "<span style=\"color: #800000; text-decoration-color: #800000\">│</span>                                                                                                  <span style=\"color: #800000; text-decoration-color: #800000\">│</span>\n",
       "<span style=\"color: #800000; text-decoration-color: #800000\">│</span> <span style=\"color: #808000; text-decoration-color: #808000\">C:\\Users\\hp\\anaconda3\\Lib\\site-packages\\kedro\\io\\data_catalog.py</span>:<span style=\"color: #0000ff; text-decoration-color: #0000ff\">408</span> in <span style=\"color: #00ff00; text-decoration-color: #00ff00\">_get_dataset</span>             <span style=\"color: #800000; text-decoration-color: #800000\">│</span>\n",
       "<span style=\"color: #800000; text-decoration-color: #800000\">╰──────────────────────────────────────────────────────────────────────────────────────────────────╯</span>\n",
       "<span style=\"color: #ff0000; text-decoration-color: #ff0000; font-weight: bold\">DatasetNotFoundError: </span>Dataset <span style=\"color: #008000; text-decoration-color: #008000\">'raw_data'</span> not found in the catalog\n",
       "</pre>\n"
      ],
      "text/plain": [
       "\u001b[31m╭─\u001b[0m\u001b[31m──────────────────────────────\u001b[0m\u001b[31m \u001b[0m\u001b[1;31mTraceback \u001b[0m\u001b[1;2;31m(most recent call last)\u001b[0m\u001b[31m \u001b[0m\u001b[31m───────────────────────────────\u001b[0m\u001b[31m─╮\u001b[0m\n",
       "\u001b[31m│\u001b[0m in \u001b[92m<module>\u001b[0m:\u001b[94m1\u001b[0m                                                                                    \u001b[31m│\u001b[0m\n",
       "\u001b[31m│\u001b[0m                                                                                                  \u001b[31m│\u001b[0m\n",
       "\u001b[31m│\u001b[0m \u001b[31m❱ \u001b[0m1 catalog.load(\u001b[33m\"\u001b[0m\u001b[33mraw_data\u001b[0m\u001b[33m\"\u001b[0m)                                                                     \u001b[31m│\u001b[0m\n",
       "\u001b[31m│\u001b[0m   \u001b[2m2 \u001b[0m                                                                                             \u001b[31m│\u001b[0m\n",
       "\u001b[31m│\u001b[0m                                                                                                  \u001b[31m│\u001b[0m\n",
       "\u001b[31m│\u001b[0m \u001b[33mC:\\Users\\hp\\anaconda3\\Lib\\site-packages\\kedro\\io\\data_catalog.py\u001b[0m:\u001b[94m481\u001b[0m in \u001b[92mload\u001b[0m                     \u001b[31m│\u001b[0m\n",
       "\u001b[31m│\u001b[0m                                                                                                  \u001b[31m│\u001b[0m\n",
       "\u001b[31m│\u001b[0m \u001b[33mC:\\Users\\hp\\anaconda3\\Lib\\site-packages\\kedro\\io\\data_catalog.py\u001b[0m:\u001b[94m408\u001b[0m in \u001b[92m_get_dataset\u001b[0m             \u001b[31m│\u001b[0m\n",
       "\u001b[31m╰──────────────────────────────────────────────────────────────────────────────────────────────────╯\u001b[0m\n",
       "\u001b[1;91mDatasetNotFoundError: \u001b[0mDataset \u001b[32m'raw_data'\u001b[0m not found in the catalog\n"
      ]
     },
     "metadata": {},
     "output_type": "display_data"
    }
   ],
   "source": [
    "catalog.load(\"raw_data\")"
   ]
  },
  {
   "cell_type": "code",
   "execution_count": null,
   "id": "fd55a592",
   "metadata": {},
   "outputs": [],
   "source": []
  }
 ],
 "metadata": {
  "kernelspec": {
   "display_name": "Python 3 (ipykernel)",
   "language": "python",
   "name": "python3"
  },
  "language_info": {
   "codemirror_mode": {
    "name": "ipython",
    "version": 3
   },
   "file_extension": ".py",
   "mimetype": "text/x-python",
   "name": "python",
   "nbconvert_exporter": "python",
   "pygments_lexer": "ipython3",
   "version": "3.11.7"
  }
 },
 "nbformat": 4,
 "nbformat_minor": 5
}
