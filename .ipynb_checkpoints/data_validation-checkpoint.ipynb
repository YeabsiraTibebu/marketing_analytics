{
 "cells": [
  {
   "cell_type": "code",
   "execution_count": 3,
   "id": "00856c96",
   "metadata": {},
   "outputs": [],
   "source": [
    "import great_expectations as gx\n",
    "from great_expectations.checkpoint import Checkpoint"
   ]
  },
  {
   "cell_type": "code",
   "execution_count": 10,
   "id": "e436f539",
   "metadata": {},
   "outputs": [],
   "source": [
    "#create a Data Context with the default settings\n",
    "context = gx.get_context()"
   ]
  },
  {
   "cell_type": "code",
   "execution_count": 5,
   "id": "1155b49e",
   "metadata": {},
   "outputs": [],
   "source": [
    "import sys\n",
    "import os\n",
    "from dotenv import load_dotenv\n",
    "import psycopg2\n",
    "from sqlalchemy import create_engine\n",
    "import pandas as pd"
   ]
  },
  {
   "cell_type": "code",
   "execution_count": 6,
   "id": "67db3b21",
   "metadata": {},
   "outputs": [],
   "source": [
    "load_dotenv()\n",
    "user = os.environ['PG_USER']\n",
    "password = os.environ['PG_PASSWORD']\n",
    "host = os.environ['PG_HOST']\n",
    "port = os.environ['PG_PORT']\n",
    "database = os.environ['PG_DATABASE']"
   ]
  },
  {
   "cell_type": "code",
   "execution_count": 7,
   "id": "318278e1",
   "metadata": {},
   "outputs": [],
   "source": [
    "PG_CONNECTION_STRING = f\"postgresql+psycopg2://{user}:{password}@{host}:{port}/{database}\""
   ]
  },
  {
   "cell_type": "code",
   "execution_count": 8,
   "id": "5a3d2972",
   "metadata": {},
   "outputs": [],
   "source": [
    "#create a Data Source to represent the data available in your PostgreSQL database\n",
    "\n",
    "pg_datasource = context.sources.add_postgres(\n",
    "    name=\"pg_datasource\", connection_string=PG_CONNECTION_STRING)"
   ]
  },
  {
   "cell_type": "code",
   "execution_count": 11,
   "id": "a7191bf4",
   "metadata": {},
   "outputs": [
    {
     "data": {
      "text/plain": [
       "TableAsset(name='tg_post_stats', type='table', id=None, order_by=[], batch_metadata={}, splitter=None, table_name='banks_data', schema_name=None)"
      ]
     },
     "execution_count": 11,
     "metadata": {},
     "output_type": "execute_result"
    }
   ],
   "source": [
    "#create a Data Asset to represent a discrete set of data\n",
    "\n",
    "pg_datasource.add_table_asset(\n",
    "    name=\"postgres_telcom_data\", table_name=\"banks_data\")"
   ]
  },
  {
   "cell_type": "code",
   "execution_count": 12,
   "id": "e9ba8df9",
   "metadata": {},
   "outputs": [],
   "source": [
    "#build a Batch Request using the Data Asset you configured above\n",
    "\n",
    "batch_request = pg_datasource.get_asset(\"tg_post_stats\").build_batch_request()"
   ]
  },
  {
   "cell_type": "code",
   "execution_count": 14,
   "id": "4f078b5a",
   "metadata": {},
   "outputs": [],
   "source": [
    "#build a Batch Request using the Data Asset you configured above\n",
    "\n",
    "batch_request = pg_datasource.get_asset(\"postgres_telcom_data\").build_batch_request()"
   ]
  },
  {
   "cell_type": "code",
   "execution_count": 15,
   "id": "06cec0f2",
   "metadata": {},
   "outputs": [
    {
     "data": {
      "application/vnd.jupyter.widget-view+json": {
       "model_id": "3fc57b7627c041ce9ad32ff490c30e02",
       "version_major": 2,
       "version_minor": 0
      },
      "text/plain": [
       "Calculating Metrics:   0%|          | 0/1 [00:00<?, ?it/s]"
      ]
     },
     "metadata": {},
     "output_type": "display_data"
    },
    {
     "name": "stdout",
     "output_type": "stream",
     "text": [
      "      Bearer Id            Start  Start ms              End  End ms  \\\n",
      "0  1.311448e+19   4/4/2019 12:01     770.0  4/25/2019 14:35   662.0   \n",
      "1  1.311448e+19   4/9/2019 13:04     235.0   4/25/2019 8:15   606.0   \n",
      "2  1.311448e+19   4/9/2019 17:42       1.0  4/25/2019 11:58   652.0   \n",
      "3  1.311448e+19   4/10/2019 0:31     486.0   4/25/2019 7:36   171.0   \n",
      "4  1.311448e+19  4/12/2019 20:10     565.0  4/25/2019 10:40   954.0   \n",
      "\n",
      "   Dur. (ms)          IMSI  MSISDN/Number          IMEI  \\\n",
      "0  1823652.0  2.082014e+14   3.366496e+10  3.552121e+13   \n",
      "1  1365104.0  2.082019e+14   3.368185e+10  3.579401e+13   \n",
      "2  1361762.0  2.082003e+14   3.376063e+10  3.528151e+13   \n",
      "3  1321509.0  2.082014e+14   3.375034e+10  3.535661e+13   \n",
      "4  1089009.0  2.082014e+14   3.369980e+10  3.540701e+13   \n",
      "\n",
      "      Last Location Name  ...  Youtube DL (Bytes)  Youtube UL (Bytes)  \\\n",
      "0  9.16456699548519E+015  ...          15854611.0           2501332.0   \n",
      "1                L77566A  ...          20247395.0          19111729.0   \n",
      "2                D42335A  ...          19725661.0          14699576.0   \n",
      "3                T21824A  ...          21388122.0          15146643.0   \n",
      "4                D88865A  ...          15259380.0          18962873.0   \n",
      "\n",
      "   Netflix DL (Bytes)  Netflix UL (Bytes) Gaming DL (Bytes) Gaming UL (Bytes)  \\\n",
      "0           8198936.0           9656251.0       278082303.0        14344150.0   \n",
      "1          18338413.0          17227132.0       608750074.0         1170709.0   \n",
      "2          17587794.0           6163408.0       229584621.0          395630.0   \n",
      "3          13994646.0           1097942.0       799538153.0        10849722.0   \n",
      "4          17124581.0            415218.0       527707248.0         3529801.0   \n",
      "\n",
      "   Other DL (Bytes)  Other UL (Bytes)  Total UL (Bytes)  Total DL (Bytes)  \n",
      "0       171744450.0         8814393.0        36749741.0       308879636.0  \n",
      "1       526904238.0        15055145.0        53800391.0       653384965.0  \n",
      "2       410692588.0         4215763.0        27883638.0       279807335.0  \n",
      "3       749039933.0        12797283.0        43324218.0       846028530.0  \n",
      "4       550709500.0        13910322.0        38542814.0       569138589.0  \n",
      "\n",
      "[5 rows x 55 columns]\n"
     ]
    }
   ],
   "source": [
    "expectation_suite_name = \"telegram analysis\"\n",
    "context.add_or_update_expectation_suite(expectation_suite_name=expectation_suite_name)\n",
    "validator = context.get_validator(\n",
    "    batch_request=batch_request,\n",
    "    expectation_suite_name=expectation_suite_name,\n",
    ")\n",
    "\n",
    "print(validator.head())"
   ]
  },
  {
   "cell_type": "code",
   "execution_count": 17,
   "id": "3c7450a6",
   "metadata": {},
   "outputs": [
    {
     "data": {
      "application/vnd.jupyter.widget-view+json": {
       "model_id": "b09b52c720294f7898e4c59bf8289533",
       "version_major": 2,
       "version_minor": 0
      },
      "text/plain": [
       "Calculating Metrics:   0%|          | 0/8 [00:00<?, ?it/s]"
      ]
     },
     "metadata": {},
     "output_type": "display_data"
    },
    {
     "data": {
      "text/plain": [
       "{\n",
       "  \"success\": false,\n",
       "  \"result\": {\n",
       "    \"element_count\": 150001,\n",
       "    \"unexpected_count\": 1153,\n",
       "    \"unexpected_percent\": 0.7686615422563849,\n",
       "    \"partial_unexpected_list\": [\n",
       "      null,\n",
       "      null,\n",
       "      null,\n",
       "      null,\n",
       "      null,\n",
       "      null,\n",
       "      null,\n",
       "      null,\n",
       "      null,\n",
       "      null,\n",
       "      null,\n",
       "      null,\n",
       "      null,\n",
       "      null,\n",
       "      null,\n",
       "      null,\n",
       "      null,\n",
       "      null,\n",
       "      null,\n",
       "      null\n",
       "    ]\n",
       "  },\n",
       "  \"meta\": {},\n",
       "  \"exception_info\": {\n",
       "    \"raised_exception\": false,\n",
       "    \"exception_traceback\": null,\n",
       "    \"exception_message\": null\n",
       "  }\n",
       "}"
      ]
     },
     "execution_count": 17,
     "metadata": {},
     "output_type": "execute_result"
    }
   ],
   "source": [
    "validator.expect_column_values_to_not_be_null(column=\"Last Location Name\")"
   ]
  },
  {
   "cell_type": "code",
   "execution_count": 18,
   "id": "b406a763",
   "metadata": {},
   "outputs": [
    {
     "data": {
      "application/vnd.jupyter.widget-view+json": {
       "model_id": "6104cfc7cf8041518ec0c2e525facc1d",
       "version_major": 2,
       "version_minor": 0
      },
      "text/plain": [
       "Calculating Metrics:   0%|          | 0/11 [00:00<?, ?it/s]"
      ]
     },
     "metadata": {},
     "output_type": "display_data"
    },
    {
     "data": {
      "text/plain": [
       "{\n",
       "  \"success\": true,\n",
       "  \"result\": {\n",
       "    \"element_count\": 150001,\n",
       "    \"unexpected_count\": 0,\n",
       "    \"unexpected_percent\": 0.0,\n",
       "    \"partial_unexpected_list\": [],\n",
       "    \"missing_count\": 1,\n",
       "    \"missing_percent\": 0.0006666622222518516,\n",
       "    \"unexpected_percent_total\": 0.0,\n",
       "    \"unexpected_percent_nonmissing\": 0.0\n",
       "  },\n",
       "  \"meta\": {},\n",
       "  \"exception_info\": {\n",
       "    \"raised_exception\": false,\n",
       "    \"exception_traceback\": null,\n",
       "    \"exception_message\": null\n",
       "  }\n",
       "}"
      ]
     },
     "execution_count": 18,
     "metadata": {},
     "output_type": "execute_result"
    }
   ],
   "source": [
    "validator.expect_column_values_to_be_between(\n",
    "    column=\"Start ms\", min_value=0, max_value=1000,)"
   ]
  },
  {
   "cell_type": "code",
   "execution_count": null,
   "id": "a3b92cb8",
   "metadata": {},
   "outputs": [],
   "source": []
  }
 ],
 "metadata": {
  "kernelspec": {
   "display_name": "Python 3 (ipykernel)",
   "language": "python",
   "name": "python3"
  },
  "language_info": {
   "codemirror_mode": {
    "name": "ipython",
    "version": 3
   },
   "file_extension": ".py",
   "mimetype": "text/x-python",
   "name": "python",
   "nbconvert_exporter": "python",
   "pygments_lexer": "ipython3",
   "version": "3.11.7"
  }
 },
 "nbformat": 4,
 "nbformat_minor": 5
}
